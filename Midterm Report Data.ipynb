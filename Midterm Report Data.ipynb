{
 "cells": [
  {
   "cell_type": "code",
   "execution_count": 325,
   "metadata": {
    "collapsed": true
   },
   "outputs": [],
   "source": [
    "import numpy as np\n",
    "import pandas as pd\n",
    "import math as m\n",
    "import matplotlib.pyplot as plt\n",
    "from sklearn import preprocessing\n",
    "from sklearn.cross_validation import train_test_split\n",
    "from sklearn.linear_model import LogisticRegression\n",
    "from sklearn.ensemble import RandomForestClassifier\n",
    "from sklearn.metrics import accuracy_score\n",
    "%matplotlib inline"
   ]
  },
  {
   "cell_type": "markdown",
   "metadata": {},
   "source": [
    "# Import data"
   ]
  },
  {
   "cell_type": "code",
   "execution_count": 368,
   "metadata": {
    "collapsed": false
   },
   "outputs": [
    {
     "name": "stdout",
     "output_type": "stream",
     "text": [
      "(59400, 41)\n"
     ]
    },
    {
     "data": {
      "text/html": [
       "<div>\n",
       "<table border=\"1\" class=\"dataframe\">\n",
       "  <thead>\n",
       "    <tr style=\"text-align: right;\">\n",
       "      <th></th>\n",
       "      <th>id</th>\n",
       "      <th>amount_tsh</th>\n",
       "      <th>date_recorded</th>\n",
       "      <th>funder</th>\n",
       "      <th>gps_height</th>\n",
       "      <th>installer</th>\n",
       "      <th>longitude</th>\n",
       "      <th>latitude</th>\n",
       "      <th>wpt_name</th>\n",
       "      <th>num_private</th>\n",
       "      <th>...</th>\n",
       "      <th>water_quality</th>\n",
       "      <th>quality_group</th>\n",
       "      <th>quantity</th>\n",
       "      <th>quantity_group</th>\n",
       "      <th>source</th>\n",
       "      <th>source_type</th>\n",
       "      <th>source_class</th>\n",
       "      <th>waterpoint_type</th>\n",
       "      <th>waterpoint_type_group</th>\n",
       "      <th>status_group</th>\n",
       "    </tr>\n",
       "  </thead>\n",
       "  <tbody>\n",
       "    <tr>\n",
       "      <th>0</th>\n",
       "      <td>69572</td>\n",
       "      <td>6000.0</td>\n",
       "      <td>3/14/11</td>\n",
       "      <td>Roman</td>\n",
       "      <td>1390</td>\n",
       "      <td>Roman</td>\n",
       "      <td>34.938093</td>\n",
       "      <td>-9.856322</td>\n",
       "      <td>none</td>\n",
       "      <td>0</td>\n",
       "      <td>...</td>\n",
       "      <td>soft</td>\n",
       "      <td>good</td>\n",
       "      <td>enough</td>\n",
       "      <td>enough</td>\n",
       "      <td>spring</td>\n",
       "      <td>spring</td>\n",
       "      <td>groundwater</td>\n",
       "      <td>communal standpipe</td>\n",
       "      <td>communal standpipe</td>\n",
       "      <td>functional</td>\n",
       "    </tr>\n",
       "    <tr>\n",
       "      <th>1</th>\n",
       "      <td>8776</td>\n",
       "      <td>0.0</td>\n",
       "      <td>3/6/13</td>\n",
       "      <td>Grumeti</td>\n",
       "      <td>1399</td>\n",
       "      <td>GRUMETI</td>\n",
       "      <td>34.698766</td>\n",
       "      <td>-2.147466</td>\n",
       "      <td>Zahanati</td>\n",
       "      <td>0</td>\n",
       "      <td>...</td>\n",
       "      <td>soft</td>\n",
       "      <td>good</td>\n",
       "      <td>insufficient</td>\n",
       "      <td>insufficient</td>\n",
       "      <td>rainwater harvesting</td>\n",
       "      <td>rainwater harvesting</td>\n",
       "      <td>surface</td>\n",
       "      <td>communal standpipe</td>\n",
       "      <td>communal standpipe</td>\n",
       "      <td>functional</td>\n",
       "    </tr>\n",
       "    <tr>\n",
       "      <th>2</th>\n",
       "      <td>34310</td>\n",
       "      <td>25.0</td>\n",
       "      <td>2/25/13</td>\n",
       "      <td>Lottery Club</td>\n",
       "      <td>686</td>\n",
       "      <td>World vision</td>\n",
       "      <td>37.460664</td>\n",
       "      <td>-3.821329</td>\n",
       "      <td>Kwa Mahundi</td>\n",
       "      <td>0</td>\n",
       "      <td>...</td>\n",
       "      <td>soft</td>\n",
       "      <td>good</td>\n",
       "      <td>enough</td>\n",
       "      <td>enough</td>\n",
       "      <td>dam</td>\n",
       "      <td>dam</td>\n",
       "      <td>surface</td>\n",
       "      <td>communal standpipe multiple</td>\n",
       "      <td>communal standpipe</td>\n",
       "      <td>functional</td>\n",
       "    </tr>\n",
       "    <tr>\n",
       "      <th>3</th>\n",
       "      <td>67743</td>\n",
       "      <td>0.0</td>\n",
       "      <td>1/28/13</td>\n",
       "      <td>Unicef</td>\n",
       "      <td>263</td>\n",
       "      <td>UNICEF</td>\n",
       "      <td>38.486161</td>\n",
       "      <td>-11.155298</td>\n",
       "      <td>Zahanati Ya Nanyumbu</td>\n",
       "      <td>0</td>\n",
       "      <td>...</td>\n",
       "      <td>soft</td>\n",
       "      <td>good</td>\n",
       "      <td>dry</td>\n",
       "      <td>dry</td>\n",
       "      <td>machine dbh</td>\n",
       "      <td>borehole</td>\n",
       "      <td>groundwater</td>\n",
       "      <td>communal standpipe multiple</td>\n",
       "      <td>communal standpipe</td>\n",
       "      <td>non functional</td>\n",
       "    </tr>\n",
       "    <tr>\n",
       "      <th>4</th>\n",
       "      <td>19728</td>\n",
       "      <td>0.0</td>\n",
       "      <td>7/13/11</td>\n",
       "      <td>Action In A</td>\n",
       "      <td>0</td>\n",
       "      <td>Artisan</td>\n",
       "      <td>31.130847</td>\n",
       "      <td>-1.825359</td>\n",
       "      <td>Shuleni</td>\n",
       "      <td>0</td>\n",
       "      <td>...</td>\n",
       "      <td>soft</td>\n",
       "      <td>good</td>\n",
       "      <td>seasonal</td>\n",
       "      <td>seasonal</td>\n",
       "      <td>rainwater harvesting</td>\n",
       "      <td>rainwater harvesting</td>\n",
       "      <td>surface</td>\n",
       "      <td>communal standpipe</td>\n",
       "      <td>communal standpipe</td>\n",
       "      <td>functional</td>\n",
       "    </tr>\n",
       "  </tbody>\n",
       "</table>\n",
       "<p>5 rows × 41 columns</p>\n",
       "</div>"
      ],
      "text/plain": [
       "      id  amount_tsh date_recorded        funder  gps_height     installer  \\\n",
       "0  69572      6000.0       3/14/11         Roman        1390         Roman   \n",
       "1   8776         0.0        3/6/13       Grumeti        1399       GRUMETI   \n",
       "2  34310        25.0       2/25/13  Lottery Club         686  World vision   \n",
       "3  67743         0.0       1/28/13        Unicef         263        UNICEF   \n",
       "4  19728         0.0       7/13/11   Action In A           0       Artisan   \n",
       "\n",
       "   longitude   latitude              wpt_name  num_private       ...        \\\n",
       "0  34.938093  -9.856322                  none            0       ...         \n",
       "1  34.698766  -2.147466              Zahanati            0       ...         \n",
       "2  37.460664  -3.821329           Kwa Mahundi            0       ...         \n",
       "3  38.486161 -11.155298  Zahanati Ya Nanyumbu            0       ...         \n",
       "4  31.130847  -1.825359               Shuleni            0       ...         \n",
       "\n",
       "  water_quality quality_group      quantity  quantity_group  \\\n",
       "0          soft          good        enough          enough   \n",
       "1          soft          good  insufficient    insufficient   \n",
       "2          soft          good        enough          enough   \n",
       "3          soft          good           dry             dry   \n",
       "4          soft          good      seasonal        seasonal   \n",
       "\n",
       "                 source           source_type source_class  \\\n",
       "0                spring                spring  groundwater   \n",
       "1  rainwater harvesting  rainwater harvesting      surface   \n",
       "2                   dam                   dam      surface   \n",
       "3           machine dbh              borehole  groundwater   \n",
       "4  rainwater harvesting  rainwater harvesting      surface   \n",
       "\n",
       "               waterpoint_type waterpoint_type_group    status_group  \n",
       "0           communal standpipe    communal standpipe      functional  \n",
       "1           communal standpipe    communal standpipe      functional  \n",
       "2  communal standpipe multiple    communal standpipe      functional  \n",
       "3  communal standpipe multiple    communal standpipe  non functional  \n",
       "4           communal standpipe    communal standpipe      functional  \n",
       "\n",
       "[5 rows x 41 columns]"
      ]
     },
     "execution_count": 368,
     "metadata": {},
     "output_type": "execute_result"
    }
   ],
   "source": [
    "training_set = pd.read_csv(\"Training Set.csv\")\n",
    "training_label = pd.read_csv(\"Training Set Labels.csv\")\n",
    "\n",
    "all_data = pd.merge(training_set, training_label, how=\"left\", on=\"id\")\n",
    "print(all_data.shape)\n",
    "all_data.head()"
   ]
  },
  {
   "cell_type": "markdown",
   "metadata": {},
   "source": [
    "# Cleansing & transform"
   ]
  },
  {
   "cell_type": "code",
   "execution_count": 369,
   "metadata": {
    "collapsed": false
   },
   "outputs": [],
   "source": [
    "# Drop columns\n",
    "feature_list = ['amount_tsh', 'date_recorded', 'gps_height', 'longitude', 'latitude', 'basin', 'region', 'lga', \n",
    "                'population', 'extraction_type_group', 'extraction_type_class', 'payment_type', 'water_quality',\n",
    "                'quantity', 'source_type', 'source_class', 'waterpoint_type', 'status_group']\n",
    "\n",
    "all_data = all_data[feature_list]\n",
    "# print(all_data.shape)"
   ]
  },
  {
   "cell_type": "code",
   "execution_count": 370,
   "metadata": {
    "collapsed": true
   },
   "outputs": [],
   "source": [
    "# Remove outliers\n",
    "all_data = all_data[all_data[\"longitude\"] != 0]"
   ]
  },
  {
   "cell_type": "code",
   "execution_count": 371,
   "metadata": {
    "collapsed": true
   },
   "outputs": [],
   "source": [
    "# Tranform datetime\n",
    "date_recorded = pd.to_datetime(all_data[\"date_recorded\"])\n",
    "time_delta = (date_recorded - date_recorded.min()).astype('timedelta64[D]').astype(int) + 1\n",
    "all_data[\"time_difference\"] = time_delta\n",
    "all_data = all_data.drop(\"date_recorded\", axis=1)"
   ]
  },
  {
   "cell_type": "code",
   "execution_count": 372,
   "metadata": {
    "collapsed": false
   },
   "outputs": [],
   "source": [
    "# Generate dummy\n",
    "categorical = ['basin', 'region', 'lga', 'extraction_type_group', 'extraction_type_class', 'payment_type',\n",
    "               'water_quality', 'quantity', 'source_type', 'source_class', 'waterpoint_type']\n",
    "\n",
    "for item in categorical:\n",
    "    dummy = pd.get_dummies(all_data[item], prefix=item)\n",
    "    all_data = all_data.join(dummy.ix[:, :])\n",
    "    all_data = all_data.drop(item, axis=1)"
   ]
  },
  {
   "cell_type": "code",
   "execution_count": 373,
   "metadata": {
    "collapsed": true
   },
   "outputs": [],
   "source": [
    "# Function for feature transform\n",
    "def transform(data):\n",
    "    # Add column \"population_0\", \"gps_height_0\" and \"amount_tsh_0\"\n",
    "    data['population_0'] = data['population'].apply(lambda x: 1 if x == 0 else 0)\n",
    "    data['gps_height_0'] = data['gps_height'].apply(lambda x: 1 if x == 0 else 0)\n",
    "    data['amount_tsh_0'] = data['amount_tsh'].apply(lambda x: 1 if x == 0 else 0)\n",
    "\n",
    "    # Transform extremely skewed columns \"population\" and \"amount_tsh\"\n",
    "    data['population'] = data['population'].apply(lambda x: m.log2(x + 1) if x < 5000 else m.log2(5000))\n",
    "    data['amount_tsh'] = data['amount_tsh'].apply(lambda x: m.log2(x + 1) if x < 5000 else m.log2(5000))\n",
    "\n",
    "    # Standardize continuous variables\n",
    "    #continuous = [\"gps_height\", \"longitude\", \"latitude\", \"time_difference\"]\n",
    "    #continuous = ['population', 'amount_tsh', \"gps_height\", \"longitude\", \"latitude\", \"time_difference\"]\n",
    "    #scalar = preprocessing.StandardScaler()\n",
    "    #scalar.fit(clean_data[continuous])\n",
    "    #data[continuous] = scalar.transform(data[continuous])\n",
    "        \n",
    "    return data\n"
   ]
  },
  {
   "cell_type": "code",
   "execution_count": 374,
   "metadata": {
    "collapsed": false
   },
   "outputs": [],
   "source": [
    "# Transform and split data\n",
    "all_data = transform(all_data)\n",
    "train, cv = train_test_split(all_data, test_size=0.2)"
   ]
  },
  {
   "cell_type": "code",
   "execution_count": 375,
   "metadata": {
    "collapsed": false
   },
   "outputs": [],
   "source": [
    "y_train = train['status_group']\n",
    "x_train = train.drop(['status_group'], axis=1)\n",
    "y_cv = cv['status_group']\n",
    "x_cv = cv.drop(['status_group'], axis=1)"
   ]
  },
  {
   "cell_type": "markdown",
   "metadata": {},
   "source": [
    "# Fit model"
   ]
  },
  {
   "cell_type": "code",
   "execution_count": 376,
   "metadata": {
    "collapsed": false
   },
   "outputs": [],
   "source": [
    "# Fit logistic regression model\n",
    "#model = LogisticRegression(penalty='l1', C=0.5, multi_class='ovr')\n",
    "#model.fit(x_train.as_matrix(), y_train.as_matrix())\n",
    "\n",
    "#y_pred = model.predict(x_test.as_matrix())\n",
    "#accuracy = accuracy_score(y_test.as_matrix(), y_pred)\n",
    "#accuracy"
   ]
  },
  {
   "cell_type": "code",
   "execution_count": 377,
   "metadata": {
    "collapsed": false
   },
   "outputs": [
    {
     "data": {
      "text/plain": [
       "0.79449557214794231"
      ]
     },
     "execution_count": 377,
     "metadata": {},
     "output_type": "execute_result"
    }
   ],
   "source": [
    "# Fit random forest\n",
    "model = RandomForestClassifier(n_estimators=15, max_depth=None)\n",
    "model.fit(x_train, y_train)\n",
    "\n",
    "y_cv_pred = model.predict(x_cv)\n",
    "accuracy = accuracy_score(y_cv, y_cv_pred)\n",
    "accuracy"
   ]
  },
  {
   "cell_type": "markdown",
   "metadata": {},
   "source": [
    "# Plot accuracy against n_estimators"
   ]
  },
  {
   "cell_type": "code",
   "execution_count": 336,
   "metadata": {
    "collapsed": false
   },
   "outputs": [],
   "source": [
    "accuracy_cv = np.zeros(40)\n",
    "accuracy_train = np.zeros(40)\n",
    "for i in range(1, 41):\n",
    "    model = model = RandomForestClassifier(n_estimators=i, max_depth=None)\n",
    "    model.fit(x_train, y_train)\n",
    "\n",
    "    y_cv_pred = model.predict(x_cv)\n",
    "    y_train_pred = model.predict(x_train)\n",
    "    accuracy_cv[i - 1] = accuracy_score(y_cv, y_cv_pred)\n",
    "    accuracy_train[i - 1] = accuracy_score(y_train, y_train_pred)"
   ]
  },
  {
   "cell_type": "code",
   "execution_count": 356,
   "metadata": {
    "collapsed": false
   },
   "outputs": [
    {
     "data": {
      "image/png": "[encoded data removed]",
      "text/plain": [
       "<matplotlib.figure.Figure at 0x1174019e8>"
      ]
     },
     "metadata": {},
     "output_type": "display_data"
    }
   ],
   "source": [
    "fig = plt.figure(figsize=(8,6))\n",
    "x = np.linspace(1, 40, 40)\n",
    "y1 = 1 - accuracy_train\n",
    "y2 = 1 - accuracy_cv\n",
    "\n",
    "plt.plot(x, y1, label='training error', color='green')\n",
    "plt.plot(x, y2, label='testing error', color='blue')\n",
    "\n",
    "plt.fill_between(x, 0, y2, where=y2 >= 0, facecolor='blue', alpha=0.05)\n",
    "plt.fill_between(x, 0, y1, where=y1 >= 0, facecolor='green', alpha=0.1)\n",
    "\n",
    "plt.title('Change in accuracy as number of trees increases')\n",
    "plt.xlim(1, 30)\n",
    "plt.ylabel(\"error\")\n",
    "plt.xlabel(\"number of trees\")\n",
    "plt.legend()\n",
    "plt.grid()\n",
    "\n",
    "plt.show()"
   ]
  },
  {
   "cell_type": "code",
   "execution_count": 345,
   "metadata": {
    "collapsed": false
   },
   "outputs": [
    {
     "name": "stdout",
     "output_type": "stream",
     "text": [
      "Number of features:  220\n"
     ]
    },
    {
     "name": "stderr",
     "output_type": "stream",
     "text": [
      "/Users/Fan/anaconda/envs/python35/lib/python3.5/site-packages/ipykernel/__main__.py:5: FutureWarning: sort(columns=....) is deprecated, use sort_values(by=.....)\n"
     ]
    },
    {
     "data": {
      "text/html": [
       "<div>\n",
       "<table border=\"1\" class=\"dataframe\">\n",
       "  <thead>\n",
       "    <tr style=\"text-align: right;\">\n",
       "      <th></th>\n",
       "      <th>Feature</th>\n",
       "      <th>Importance</th>\n",
       "    </tr>\n",
       "  </thead>\n",
       "  <tbody>\n",
       "    <tr>\n",
       "      <th>2</th>\n",
       "      <td>longitude</td>\n",
       "      <td>0.145422</td>\n",
       "    </tr>\n",
       "    <tr>\n",
       "      <th>3</th>\n",
       "      <td>latitude</td>\n",
       "      <td>0.143805</td>\n",
       "    </tr>\n",
       "    <tr>\n",
       "      <th>5</th>\n",
       "      <td>time_difference</td>\n",
       "      <td>0.083201</td>\n",
       "    </tr>\n",
       "    <tr>\n",
       "      <th>1</th>\n",
       "      <td>gps_height</td>\n",
       "      <td>0.075038</td>\n",
       "    </tr>\n",
       "    <tr>\n",
       "      <th>195</th>\n",
       "      <td>quantity_dry</td>\n",
       "      <td>0.064735</td>\n",
       "    </tr>\n",
       "    <tr>\n",
       "      <th>4</th>\n",
       "      <td>population</td>\n",
       "      <td>0.053775</td>\n",
       "    </tr>\n",
       "    <tr>\n",
       "      <th>196</th>\n",
       "      <td>quantity_enough</td>\n",
       "      <td>0.030723</td>\n",
       "    </tr>\n",
       "    <tr>\n",
       "      <th>216</th>\n",
       "      <td>waterpoint_type_other</td>\n",
       "      <td>0.023973</td>\n",
       "    </tr>\n",
       "    <tr>\n",
       "      <th>0</th>\n",
       "      <td>amount_tsh</td>\n",
       "      <td>0.022735</td>\n",
       "    </tr>\n",
       "    <tr>\n",
       "      <th>166</th>\n",
       "      <td>extraction_type_group_other</td>\n",
       "      <td>0.022679</td>\n",
       "    </tr>\n",
       "    <tr>\n",
       "      <th>197</th>\n",
       "      <td>quantity_insufficient</td>\n",
       "      <td>0.014292</td>\n",
       "    </tr>\n",
       "    <tr>\n",
       "      <th>211</th>\n",
       "      <td>waterpoint_type_communal standpipe</td>\n",
       "      <td>0.012343</td>\n",
       "    </tr>\n",
       "    <tr>\n",
       "      <th>182</th>\n",
       "      <td>payment_type_never pay</td>\n",
       "      <td>0.011401</td>\n",
       "    </tr>\n",
       "    <tr>\n",
       "      <th>176</th>\n",
       "      <td>extraction_type_class_other</td>\n",
       "      <td>0.011171</td>\n",
       "    </tr>\n",
       "    <tr>\n",
       "      <th>212</th>\n",
       "      <td>waterpoint_type_communal standpipe multiple</td>\n",
       "      <td>0.008375</td>\n",
       "    </tr>\n",
       "  </tbody>\n",
       "</table>\n",
       "</div>"
      ],
      "text/plain": [
       "                                         Feature  Importance\n",
       "2                                      longitude    0.145422\n",
       "3                                       latitude    0.143805\n",
       "5                                time_difference    0.083201\n",
       "1                                     gps_height    0.075038\n",
       "195                                 quantity_dry    0.064735\n",
       "4                                     population    0.053775\n",
       "196                              quantity_enough    0.030723\n",
       "216                        waterpoint_type_other    0.023973\n",
       "0                                     amount_tsh    0.022735\n",
       "166                  extraction_type_group_other    0.022679\n",
       "197                        quantity_insufficient    0.014292\n",
       "211           waterpoint_type_communal standpipe    0.012343\n",
       "182                       payment_type_never pay    0.011401\n",
       "176                  extraction_type_class_other    0.011171\n",
       "212  waterpoint_type_communal standpipe multiple    0.008375"
      ]
     },
     "execution_count": 345,
     "metadata": {},
     "output_type": "execute_result"
    }
   ],
   "source": [
    "importance = pd.DataFrame(model.feature_importances_, columns=['Importance'])\n",
    "feature = pd.DataFrame(x_train.columns, columns=['Feature'])\n",
    "print(\"Number of features: \", feature.shape[0])\n",
    "fi = feature.join(importance.ix[:,])\n",
    "fi = fi.sort(['Importance'], ascending=False)\n",
    "fi.head(15)"
   ]
  },
  {
   "cell_type": "code",
   "execution_count": null,
   "metadata": {
    "collapsed": true
   },
   "outputs": [],
   "source": []
  }
 ],
 "metadata": {
  "kernelspec": {
   "display_name": "Python [python35]",
   "language": "python",
   "name": "Python [python35]"
  },
  "language_info": {
   "codemirror_mode": {
    "name": "ipython",
    "version": 3
   },
   "file_extension": ".py",
   "mimetype": "text/x-python",
   "name": "python",
   "nbconvert_exporter": "python",
   "pygments_lexer": "ipython3",
   "version": "3.5.2"
  }
 },
 "nbformat": 4,
 "nbformat_minor": 0
}
