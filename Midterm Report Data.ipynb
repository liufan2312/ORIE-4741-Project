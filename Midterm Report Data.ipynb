{
 "cells": [
  {
   "cell_type": "code",
   "execution_count": 128,
   "metadata": {
    "collapsed": false
   },
   "outputs": [],
   "source": [
    "import numpy as np\n",
    "import pandas as pd\n",
    "import math as m\n",
    "import matplotlib.pyplot as plt\n",
    "from sklearn import preprocessing\n",
    "from sklearn.cross_validation import train_test_split\n",
    "from sklearn.linear_model import LogisticRegression\n",
    "from sklearn.ensemble import RandomForestClassifier\n",
    "from sklearn.ensemble import AdaBoostClassifier\n",
    "from sklearn.ensemble import BaggingClassifier\n",
    "from sklearn.metrics import accuracy_score\n",
    "from sklearn.linear_model import SGDClassifier\n",
    "from sklearn.svm import SVC\n",
    "from sklearn.tree import DecisionTreeClassifier\n",
    "from sklearn.cluster import KMeans\n",
    "%matplotlib inline"
   ]
  },
  {
   "cell_type": "markdown",
   "metadata": {},
   "source": [
    "# Import data"
   ]
  },
  {
   "cell_type": "code",
   "execution_count": 129,
   "metadata": {
    "collapsed": false
   },
   "outputs": [
    {
     "name": "stdout",
     "output_type": "stream",
     "text": [
      "(59400, 41)\n"
     ]
    },
    {
     "data": {
      "text/html": [
       "<div>\n",
       "<table border=\"1\" class=\"dataframe\">\n",
       "  <thead>\n",
       "    <tr style=\"text-align: right;\">\n",
       "      <th></th>\n",
       "      <th>id</th>\n",
       "      <th>amount_tsh</th>\n",
       "      <th>date_recorded</th>\n",
       "      <th>funder</th>\n",
       "      <th>gps_height</th>\n",
       "      <th>installer</th>\n",
       "      <th>longitude</th>\n",
       "      <th>latitude</th>\n",
       "      <th>wpt_name</th>\n",
       "      <th>num_private</th>\n",
       "      <th>...</th>\n",
       "      <th>water_quality</th>\n",
       "      <th>quality_group</th>\n",
       "      <th>quantity</th>\n",
       "      <th>quantity_group</th>\n",
       "      <th>source</th>\n",
       "      <th>source_type</th>\n",
       "      <th>source_class</th>\n",
       "      <th>waterpoint_type</th>\n",
       "      <th>waterpoint_type_group</th>\n",
       "      <th>status_group</th>\n",
       "    </tr>\n",
       "  </thead>\n",
       "  <tbody>\n",
       "    <tr>\n",
       "      <th>0</th>\n",
       "      <td>69572</td>\n",
       "      <td>6000.0</td>\n",
       "      <td>3/14/11</td>\n",
       "      <td>Roman</td>\n",
       "      <td>1390</td>\n",
       "      <td>Roman</td>\n",
       "      <td>34.938093</td>\n",
       "      <td>-9.856322</td>\n",
       "      <td>none</td>\n",
       "      <td>0</td>\n",
       "      <td>...</td>\n",
       "      <td>soft</td>\n",
       "      <td>good</td>\n",
       "      <td>enough</td>\n",
       "      <td>enough</td>\n",
       "      <td>spring</td>\n",
       "      <td>spring</td>\n",
       "      <td>groundwater</td>\n",
       "      <td>communal standpipe</td>\n",
       "      <td>communal standpipe</td>\n",
       "      <td>functional</td>\n",
       "    </tr>\n",
       "    <tr>\n",
       "      <th>1</th>\n",
       "      <td>8776</td>\n",
       "      <td>0.0</td>\n",
       "      <td>3/6/13</td>\n",
       "      <td>Grumeti</td>\n",
       "      <td>1399</td>\n",
       "      <td>GRUMETI</td>\n",
       "      <td>34.698766</td>\n",
       "      <td>-2.147466</td>\n",
       "      <td>Zahanati</td>\n",
       "      <td>0</td>\n",
       "      <td>...</td>\n",
       "      <td>soft</td>\n",
       "      <td>good</td>\n",
       "      <td>insufficient</td>\n",
       "      <td>insufficient</td>\n",
       "      <td>rainwater harvesting</td>\n",
       "      <td>rainwater harvesting</td>\n",
       "      <td>surface</td>\n",
       "      <td>communal standpipe</td>\n",
       "      <td>communal standpipe</td>\n",
       "      <td>functional</td>\n",
       "    </tr>\n",
       "    <tr>\n",
       "      <th>2</th>\n",
       "      <td>34310</td>\n",
       "      <td>25.0</td>\n",
       "      <td>2/25/13</td>\n",
       "      <td>Lottery Club</td>\n",
       "      <td>686</td>\n",
       "      <td>World vision</td>\n",
       "      <td>37.460664</td>\n",
       "      <td>-3.821329</td>\n",
       "      <td>Kwa Mahundi</td>\n",
       "      <td>0</td>\n",
       "      <td>...</td>\n",
       "      <td>soft</td>\n",
       "      <td>good</td>\n",
       "      <td>enough</td>\n",
       "      <td>enough</td>\n",
       "      <td>dam</td>\n",
       "      <td>dam</td>\n",
       "      <td>surface</td>\n",
       "      <td>communal standpipe multiple</td>\n",
       "      <td>communal standpipe</td>\n",
       "      <td>functional</td>\n",
       "    </tr>\n",
       "    <tr>\n",
       "      <th>3</th>\n",
       "      <td>67743</td>\n",
       "      <td>0.0</td>\n",
       "      <td>1/28/13</td>\n",
       "      <td>Unicef</td>\n",
       "      <td>263</td>\n",
       "      <td>UNICEF</td>\n",
       "      <td>38.486161</td>\n",
       "      <td>-11.155298</td>\n",
       "      <td>Zahanati Ya Nanyumbu</td>\n",
       "      <td>0</td>\n",
       "      <td>...</td>\n",
       "      <td>soft</td>\n",
       "      <td>good</td>\n",
       "      <td>dry</td>\n",
       "      <td>dry</td>\n",
       "      <td>machine dbh</td>\n",
       "      <td>borehole</td>\n",
       "      <td>groundwater</td>\n",
       "      <td>communal standpipe multiple</td>\n",
       "      <td>communal standpipe</td>\n",
       "      <td>non functional</td>\n",
       "    </tr>\n",
       "    <tr>\n",
       "      <th>4</th>\n",
       "      <td>19728</td>\n",
       "      <td>0.0</td>\n",
       "      <td>7/13/11</td>\n",
       "      <td>Action In A</td>\n",
       "      <td>0</td>\n",
       "      <td>Artisan</td>\n",
       "      <td>31.130847</td>\n",
       "      <td>-1.825359</td>\n",
       "      <td>Shuleni</td>\n",
       "      <td>0</td>\n",
       "      <td>...</td>\n",
       "      <td>soft</td>\n",
       "      <td>good</td>\n",
       "      <td>seasonal</td>\n",
       "      <td>seasonal</td>\n",
       "      <td>rainwater harvesting</td>\n",
       "      <td>rainwater harvesting</td>\n",
       "      <td>surface</td>\n",
       "      <td>communal standpipe</td>\n",
       "      <td>communal standpipe</td>\n",
       "      <td>functional</td>\n",
       "    </tr>\n",
       "  </tbody>\n",
       "</table>\n",
       "<p>5 rows × 41 columns</p>\n",
       "</div>"
      ],
      "text/plain": [
       "      id  amount_tsh date_recorded        funder  gps_height     installer  \\\n",
       "0  69572      6000.0       3/14/11         Roman        1390         Roman   \n",
       "1   8776         0.0        3/6/13       Grumeti        1399       GRUMETI   \n",
       "2  34310        25.0       2/25/13  Lottery Club         686  World vision   \n",
       "3  67743         0.0       1/28/13        Unicef         263        UNICEF   \n",
       "4  19728         0.0       7/13/11   Action In A           0       Artisan   \n",
       "\n",
       "   longitude   latitude              wpt_name  num_private       ...        \\\n",
       "0  34.938093  -9.856322                  none            0       ...         \n",
       "1  34.698766  -2.147466              Zahanati            0       ...         \n",
       "2  37.460664  -3.821329           Kwa Mahundi            0       ...         \n",
       "3  38.486161 -11.155298  Zahanati Ya Nanyumbu            0       ...         \n",
       "4  31.130847  -1.825359               Shuleni            0       ...         \n",
       "\n",
       "  water_quality quality_group      quantity  quantity_group  \\\n",
       "0          soft          good        enough          enough   \n",
       "1          soft          good  insufficient    insufficient   \n",
       "2          soft          good        enough          enough   \n",
       "3          soft          good           dry             dry   \n",
       "4          soft          good      seasonal        seasonal   \n",
       "\n",
       "                 source           source_type source_class  \\\n",
       "0                spring                spring  groundwater   \n",
       "1  rainwater harvesting  rainwater harvesting      surface   \n",
       "2                   dam                   dam      surface   \n",
       "3           machine dbh              borehole  groundwater   \n",
       "4  rainwater harvesting  rainwater harvesting      surface   \n",
       "\n",
       "               waterpoint_type waterpoint_type_group    status_group  \n",
       "0           communal standpipe    communal standpipe      functional  \n",
       "1           communal standpipe    communal standpipe      functional  \n",
       "2  communal standpipe multiple    communal standpipe      functional  \n",
       "3  communal standpipe multiple    communal standpipe  non functional  \n",
       "4           communal standpipe    communal standpipe      functional  \n",
       "\n",
       "[5 rows x 41 columns]"
      ]
     },
     "execution_count": 129,
     "metadata": {},
     "output_type": "execute_result"
    }
   ],
   "source": [
    "training_set = pd.read_csv(\"Training Set.csv\")\n",
    "training_label = pd.read_csv(\"Training Set Labels.csv\")\n",
    "\n",
    "data = pd.merge(training_set, training_label, how=\"left\", on=\"id\")\n",
    "print(data.shape)\n",
    "data.head()"
   ]
  },
  {
   "cell_type": "markdown",
   "metadata": {},
   "source": [
    "# Cleansing & transform"
   ]
  },
  {
   "cell_type": "code",
   "execution_count": 130,
   "metadata": {
    "collapsed": false
   },
   "outputs": [],
   "source": [
    "# Drop columns\n",
    "feature_list = ['date_recorded', 'installer','longitude', 'latitude', 'basin', 'gps_height',\n",
    "                'region', 'lga', 'extraction_type_group', 'extraction_type_class', 'construction_year', \n",
    "                'payment_type', 'water_quality', 'quantity', 'source_type', 'source_class', 'waterpoint_type', \n",
    "                'permit', 'status_group']\n",
    "\n",
    "# if we are using random forest, we don't really need to deal with all the 0s in construction year\n",
    "\n",
    "data = data[feature_list]\n",
    "# print(all_data.shape)"
   ]
  },
  {
   "cell_type": "code",
   "execution_count": 131,
   "metadata": {
    "collapsed": false
   },
   "outputs": [],
   "source": [
    "# Transform installer\n",
    "data['installer'] = data['installer'].str.lower()\n",
    "data['installer_dwe'] = data['installer'].apply(lambda x: 1 if x == 'dwe' else 0)\n",
    "data['installer_gov'] = data['installer'].str.contains('gov', na=False).astype(int)\n",
    "data['installer_nan'] = data['installer'].isnull().astype(int)\n",
    "data['installer_other'] = (data['installer_dwe'] + data['installer_gov'] + data['installer_nan']) * (-1) + 1\n",
    "data = data.drop('installer', axis=1)"
   ]
  },
  {
   "cell_type": "code",
   "execution_count": 132,
   "metadata": {
    "collapsed": false
   },
   "outputs": [],
   "source": [
    "# Transform funder\n",
    "# Keep the top 10 funders and mark NaN\n",
    "#funder10 = data.groupby('funder').size().sort_values(ascending=False).index.tolist()[0 : 11]\n",
    "#other = data['funder'].apply(lambda x: 0)\n",
    "#for funder in funder10:\n",
    "#    col = data['funder'].apply(lambda x: 1 if x == funder else 0)\n",
    "#    other += col\n",
    "#    data[('funder_' + funder)] = col\n",
    "\n",
    "#data['funder_nan'] = data['funder'].isnull().astype(int)\n",
    "#data['funder_other'] = (other + all_data['funder_nan']) * (-1) + 1\n",
    "#data = data.drop('funder', axis=1)"
   ]
  },
  {
   "cell_type": "code",
   "execution_count": 133,
   "metadata": {
    "collapsed": true
   },
   "outputs": [],
   "source": [
    "# Transform datetime\n",
    "date_recorded = pd.to_datetime(data[\"date_recorded\"])\n",
    "data['month'] = date_recorded.apply(lambda x: x.month).astype(str)\n",
    "time_delta = (date_recorded - date_recorded.min()).astype('timedelta64[D]').astype(int) + 1\n",
    "data[\"time_difference\"] = time_delta\n",
    "data = data.drop(\"date_recorded\", axis=1)\n",
    "\n",
    "# Add rain season and dry season\n",
    "dry = ['6', '7', '8', '9', '10']\n",
    "data['dry_season'] = data['month'].apply(lambda x: 1 if x in dry else 0)\n",
    "data['rain_season'] = data['dry_season'].apply(lambda x: 1 if x == 0 else 1)\n",
    "data = data.drop('month', axis=1)"
   ]
  },
  {
   "cell_type": "code",
   "execution_count": 134,
   "metadata": {
    "collapsed": false
   },
   "outputs": [],
   "source": [
    "# Generate dummy\n",
    "categorical = ['basin', 'region', 'lga', 'extraction_type_group', 'extraction_type_class', 'payment_type',\n",
    "               'water_quality', 'quantity', 'source_type', 'source_class', 'waterpoint_type', 'permit']\n",
    "\n",
    "for item in categorical:\n",
    "    dummy = pd.get_dummies(data[item], prefix=item, dummy_na=True)  # Create one more column indicating data missing\n",
    "    data = data.join(dummy.ix[:, :])\n",
    "    data = data.drop(item, axis=1)"
   ]
  },
  {
   "cell_type": "code",
   "execution_count": 135,
   "metadata": {
    "collapsed": true
   },
   "outputs": [],
   "source": [
    "# Function for feature transform\n",
    "def transform(data):\n",
    "    # Add column \"population_0\", \"gps_height_0\" and \"amount_tsh_0\"\n",
    "    #data['population_0'] = data['population'].apply(lambda x: 1 if x == 0 else 0)\n",
    "    #data['gps_height_0'] = data['gps_height'].apply(lambda x: 1 if x == 0 else 0)\n",
    "    #data['amount_tsh_0'] = data['amount_tsh'].apply(lambda x: 1 if x == 0 else 0)\n",
    "\n",
    "    # Transform extremely skewed columns \"population\" and \"amount_tsh\"\n",
    "    #data['population'] = data['population'].apply(lambda x: m.log2(x + 1) if x < 5000 else m.log2(5000))\n",
    "    #data['amount_tsh'] = data['amount_tsh'].apply(lambda x: m.log2(x + 1) if x < 5000 else m.log2(5000))\n",
    "\n",
    "    # Standardize continuous variables\n",
    "    continuous = [\"longitude\", \"latitude\", \"time_difference\"]\n",
    "    scalar = preprocessing.StandardScaler()\n",
    "    scalar.fit(data[continuous])\n",
    "    data[continuous] = scalar.transform(data[continuous])\n",
    "        \n",
    "    return data\n"
   ]
  },
  {
   "cell_type": "code",
   "execution_count": 136,
   "metadata": {
    "collapsed": false
   },
   "outputs": [],
   "source": [
    "# Transform and split data\n",
    "data = transform(data)"
   ]
  },
  {
   "cell_type": "code",
   "execution_count": 137,
   "metadata": {
    "collapsed": true
   },
   "outputs": [],
   "source": [
    "# K-means clustering for location features\n",
    "#data = data[data['longitude'] != 0]\n",
    "#location = data[['longitude', 'latitude', 'gps_height']]\n",
    "#location = location[location['longitude'] != 0]\n",
    "#kmeans = KMeans(n_clusters=30, random_state=0).fit(location)\n",
    "#centroids = kmeans.cluster_centers_\n",
    "\n",
    "# Create new features that decribes the distance to each centroid\n",
    "#count = 1\n",
    "#for centroid in centroids:\n",
    "#    column_name = 'centroid_' + str(count)\n",
    "#    count += 1\n",
    "#    data[column_name] = ((data['longitude'] - centroid[0])**2 + (data['latitude'] - centroid[1])**2 + \n",
    "#                         (data['gps_height'] - centroid[2])**2).apply(lambda x: m.sqrt(x))\n",
    "    \n",
    "data = data.drop(['gps_height'], axis=1)"
   ]
  },
  {
   "cell_type": "code",
   "execution_count": 138,
   "metadata": {
    "collapsed": false
   },
   "outputs": [],
   "source": [
    "train, other = train_test_split(data, test_size=0.6)\n",
    "cv, test = train_test_split(other, test_size=0.5)"
   ]
  },
  {
   "cell_type": "code",
   "execution_count": 139,
   "metadata": {
    "collapsed": false
   },
   "outputs": [],
   "source": [
    "# Remove outliers in training set\n",
    "train = train[train[\"longitude\"] != 0]"
   ]
  },
  {
   "cell_type": "code",
   "execution_count": 140,
   "metadata": {
    "collapsed": false
   },
   "outputs": [],
   "source": [
    "y_train = train['status_group']\n",
    "x_train = train.drop(['status_group'], axis=1)\n",
    "y_cv = cv['status_group']\n",
    "x_cv = cv.drop(['status_group'], axis=1)"
   ]
  },
  {
   "cell_type": "code",
   "execution_count": 141,
   "metadata": {
    "collapsed": true
   },
   "outputs": [],
   "source": [
    "y_test = test['status_group']\n",
    "x_test = test.drop(['status_group'], axis=1)"
   ]
  },
  {
   "cell_type": "markdown",
   "metadata": {},
   "source": [
    "# Fit model"
   ]
  },
  {
   "cell_type": "code",
   "execution_count": 147,
   "metadata": {
    "collapsed": false
   },
   "outputs": [
    {
     "name": "stdout",
     "output_type": "stream",
     "text": [
      "Training accuracy:  0.749915824916\n",
      "Cross validation accuracy:  0.743378226712\n"
     ]
    }
   ],
   "source": [
    "# Fit logistic regression model\n",
    "model = LogisticRegression(penalty='l1', C=10, multi_class='ovr')\n",
    "model.fit(x_train, y_train)\n",
    "print(\"Training accuracy: \", model.score(x_train, y_train))\n",
    "print(\"Cross validation accuracy: \", model.score(x_cv, y_cv))"
   ]
  },
  {
   "cell_type": "code",
   "execution_count": 146,
   "metadata": {
    "collapsed": false
   },
   "outputs": [
    {
     "name": "stdout",
     "output_type": "stream",
     "text": [
      "Training accuracy:  0.728787878788\n",
      "Cross validation accuracy:  0.728002244669\n"
     ]
    }
   ],
   "source": [
    "# Fit SVM\n",
    "model = SVC(decision_function_shape='ovr', kernel='rbf')\n",
    "model.fit(x_train, y_train)\n",
    "print(\"Training accuracy: \", model.score(x_train, y_train))\n",
    "print(\"Cross validation accuracy: \", model.score(x_cv, y_cv))"
   ]
  },
  {
   "cell_type": "code",
   "execution_count": 40,
   "metadata": {
    "collapsed": false
   },
   "outputs": [
    {
     "name": "stdout",
     "output_type": "stream",
     "text": [
      "Training accuracy:  0.940480334145\n",
      "Cross validation accuracy:  0.727861952862\n"
     ]
    }
   ],
   "source": [
    "# Fit a single decision tree\n",
    "model = DecisionTreeClassifier(max_features=None, max_depth=20)\n",
    "model.fit(x_train, y_train)\n",
    "print(\"Training accuracy: \", model.score(x_train, y_train))\n",
    "print(\"Cross validation accuracy: \", model.score(x_cv, y_cv))"
   ]
  },
  {
   "cell_type": "code",
   "execution_count": 145,
   "metadata": {
    "collapsed": false
   },
   "outputs": [
    {
     "name": "stdout",
     "output_type": "stream",
     "text": [
      "Training accuracy:  0.924579124579\n",
      "Cross validation accuracy:  0.78608305275\n"
     ]
    }
   ],
   "source": [
    "# Fit bagging model\n",
    "base_model = DecisionTreeClassifier(max_features=None, max_depth=20)\n",
    "#base_model = LogisticRegression(penalty='l2', C=10, multi_class='ovr')\n",
    "model = BaggingClassifier(base_estimator=base_model, n_estimators=50)\n",
    "model.fit(x_train, y_train)\n",
    "print(\"Training accuracy: \", model.score(x_train, y_train))\n",
    "print(\"Cross validation accuracy: \", modelrf.score(x_cv, y_cv))"
   ]
  },
  {
   "cell_type": "code",
   "execution_count": 143,
   "metadata": {
    "collapsed": false
   },
   "outputs": [
    {
     "name": "stdout",
     "output_type": "stream",
     "text": [
      "Training accuracy:  0.923569023569\n",
      "Cross validation accuracy:  0.78608305275\n"
     ]
    }
   ],
   "source": [
    "# Fit random forest\n",
    "modelrf = RandomForestClassifier(n_estimators=50, max_depth=20, max_features=None)\n",
    "modelrf.fit(x_train, y_train)\n",
    "print(\"Training accuracy: \", modelrf.score(x_train, y_train))\n",
    "print(\"Cross validation accuracy: \", modelrf.score(x_cv, y_cv))"
   ]
  },
  {
   "cell_type": "markdown",
   "metadata": {},
   "source": [
    "# Plot accuracy against n_estimators"
   ]
  },
  {
   "cell_type": "code",
   "execution_count": 91,
   "metadata": {
    "collapsed": false
   },
   "outputs": [],
   "source": [
    "accuracy_cv = np.zeros(100)\n",
    "accuracy_train = np.zeros(100)\n",
    "for i in range(1, 101):\n",
    "    model = RandomForestClassifier(n_estimators=i, max_depth=20, max_features='auto')\n",
    "    model.fit(x_train, y_train)\n",
    "    accuracy_cv[i - 1] = model.score(x_cv, y_cv)\n",
    "    accuracy_train[i - 1] = model.score(x_train, y_train)"
   ]
  },
  {
   "cell_type": "code",
   "execution_count": 95,
   "metadata": {
    "collapsed": false
   },
   "outputs": [
    {
     "data": {
      "image/png": "[encoded data removed]",
      "text/plain": [
       "<matplotlib.figure.Figure at 0x117b716a0>"
      ]
     },
     "metadata": {},
     "output_type": "display_data"
    }
   ],
   "source": [
    "fig = plt.figure(figsize=(8,6))\n",
    "x = np.linspace(1, 100, 100)\n",
    "y1 = 1 - accuracy_train\n",
    "y2 = 1 - accuracy_cv\n",
    "\n",
    "plt.plot(x, y1, label='training error', color='green')\n",
    "plt.plot(x, y2, label='testing error', color='blue')\n",
    "\n",
    "plt.fill_between(x, 0, y2, where=y2 >= 0, facecolor='blue', alpha=0.05)\n",
    "plt.fill_between(x, 0, y1, where=y1 >= 0, facecolor='green', alpha=0.1)\n",
    "\n",
    "plt.title('Change in accuracy as number of trees increases')\n",
    "plt.xlim(1, 40)\n",
    "plt.ylabel(\"error\")\n",
    "plt.xlabel(\"number of trees\")\n",
    "plt.legend()\n",
    "plt.grid()\n",
    "\n",
    "plt.show()"
   ]
  },
  {
   "cell_type": "code",
   "execution_count": 83,
   "metadata": {
    "collapsed": false,
    "scrolled": false
   },
   "outputs": [
    {
     "name": "stdout",
     "output_type": "stream",
     "text": [
      "Number of features:  237\n"
     ]
    },
    {
     "name": "stderr",
     "output_type": "stream",
     "text": [
      "/Users/Fan/anaconda/envs/python35/lib/python3.5/site-packages/ipykernel/__main__.py:5: FutureWarning: sort(columns=....) is deprecated, use sort_values(by=.....)\n"
     ]
    },
    {
     "data": {
      "text/html": [
       "<div>\n",
       "<table border=\"1\" class=\"dataframe\">\n",
       "  <thead>\n",
       "    <tr style=\"text-align: right;\">\n",
       "      <th></th>\n",
       "      <th>Feature</th>\n",
       "      <th>Importance</th>\n",
       "    </tr>\n",
       "  </thead>\n",
       "  <tbody>\n",
       "    <tr>\n",
       "      <th>0</th>\n",
       "      <td>longitude</td>\n",
       "      <td>0.162926</td>\n",
       "    </tr>\n",
       "    <tr>\n",
       "      <th>1</th>\n",
       "      <td>latitude</td>\n",
       "      <td>0.160529</td>\n",
       "    </tr>\n",
       "    <tr>\n",
       "      <th>207</th>\n",
       "      <td>quantity_dry</td>\n",
       "      <td>0.136145</td>\n",
       "    </tr>\n",
       "    <tr>\n",
       "      <th>7</th>\n",
       "      <td>time_difference</td>\n",
       "      <td>0.085604</td>\n",
       "    </tr>\n",
       "    <tr>\n",
       "      <th>231</th>\n",
       "      <td>waterpoint_type_other</td>\n",
       "      <td>0.070641</td>\n",
       "    </tr>\n",
       "    <tr>\n",
       "      <th>2</th>\n",
       "      <td>construction_year</td>\n",
       "      <td>0.059957</td>\n",
       "    </tr>\n",
       "    <tr>\n",
       "      <th>227</th>\n",
       "      <td>waterpoint_type_communal standpipe multiple</td>\n",
       "      <td>0.016494</td>\n",
       "    </tr>\n",
       "    <tr>\n",
       "      <th>192</th>\n",
       "      <td>payment_type_never pay</td>\n",
       "      <td>0.013258</td>\n",
       "    </tr>\n",
       "    <tr>\n",
       "      <th>208</th>\n",
       "      <td>quantity_enough</td>\n",
       "      <td>0.010878</td>\n",
       "    </tr>\n",
       "    <tr>\n",
       "      <th>209</th>\n",
       "      <td>quantity_insufficient</td>\n",
       "      <td>0.010358</td>\n",
       "    </tr>\n",
       "    <tr>\n",
       "      <th>6</th>\n",
       "      <td>installer_other</td>\n",
       "      <td>0.006734</td>\n",
       "    </tr>\n",
       "    <tr>\n",
       "      <th>47</th>\n",
       "      <td>lga_Bariadi</td>\n",
       "      <td>0.006670</td>\n",
       "    </tr>\n",
       "    <tr>\n",
       "      <th>196</th>\n",
       "      <td>payment_type_unknown</td>\n",
       "      <td>0.006526</td>\n",
       "    </tr>\n",
       "    <tr>\n",
       "      <th>3</th>\n",
       "      <td>installer_dwe</td>\n",
       "      <td>0.006180</td>\n",
       "    </tr>\n",
       "    <tr>\n",
       "      <th>23</th>\n",
       "      <td>region_Iringa</td>\n",
       "      <td>0.006127</td>\n",
       "    </tr>\n",
       "    <tr>\n",
       "      <th>213</th>\n",
       "      <td>source_type_borehole</td>\n",
       "      <td>0.005897</td>\n",
       "    </tr>\n",
       "    <tr>\n",
       "      <th>173</th>\n",
       "      <td>extraction_type_group_nira/tanira</td>\n",
       "      <td>0.005483</td>\n",
       "    </tr>\n",
       "    <tr>\n",
       "      <th>210</th>\n",
       "      <td>quantity_seasonal</td>\n",
       "      <td>0.005317</td>\n",
       "    </tr>\n",
       "    <tr>\n",
       "      <th>138</th>\n",
       "      <td>lga_Rombo</td>\n",
       "      <td>0.005165</td>\n",
       "    </tr>\n",
       "    <tr>\n",
       "      <th>195</th>\n",
       "      <td>payment_type_per bucket</td>\n",
       "      <td>0.005099</td>\n",
       "    </tr>\n",
       "    <tr>\n",
       "      <th>219</th>\n",
       "      <td>source_type_spring</td>\n",
       "      <td>0.005072</td>\n",
       "    </tr>\n",
       "    <tr>\n",
       "      <th>234</th>\n",
       "      <td>permit_True</td>\n",
       "      <td>0.004927</td>\n",
       "    </tr>\n",
       "    <tr>\n",
       "      <th>217</th>\n",
       "      <td>source_type_river/lake</td>\n",
       "      <td>0.004625</td>\n",
       "    </tr>\n",
       "    <tr>\n",
       "      <th>204</th>\n",
       "      <td>water_quality_soft</td>\n",
       "      <td>0.004558</td>\n",
       "    </tr>\n",
       "    <tr>\n",
       "      <th>179</th>\n",
       "      <td>extraction_type_group_swn 80</td>\n",
       "      <td>0.004360</td>\n",
       "    </tr>\n",
       "    <tr>\n",
       "      <th>11</th>\n",
       "      <td>basin_Lake Nyasa</td>\n",
       "      <td>0.004227</td>\n",
       "    </tr>\n",
       "    <tr>\n",
       "      <th>182</th>\n",
       "      <td>extraction_type_class_gravity</td>\n",
       "      <td>0.004142</td>\n",
       "    </tr>\n",
       "    <tr>\n",
       "      <th>218</th>\n",
       "      <td>source_type_shallow well</td>\n",
       "      <td>0.004136</td>\n",
       "    </tr>\n",
       "    <tr>\n",
       "      <th>4</th>\n",
       "      <td>installer_gov</td>\n",
       "      <td>0.004000</td>\n",
       "    </tr>\n",
       "    <tr>\n",
       "      <th>233</th>\n",
       "      <td>permit_False</td>\n",
       "      <td>0.003850</td>\n",
       "    </tr>\n",
       "  </tbody>\n",
       "</table>\n",
       "</div>"
      ],
      "text/plain": [
       "                                         Feature  Importance\n",
       "0                                      longitude    0.162926\n",
       "1                                       latitude    0.160529\n",
       "207                                 quantity_dry    0.136145\n",
       "7                                time_difference    0.085604\n",
       "231                        waterpoint_type_other    0.070641\n",
       "2                              construction_year    0.059957\n",
       "227  waterpoint_type_communal standpipe multiple    0.016494\n",
       "192                       payment_type_never pay    0.013258\n",
       "208                              quantity_enough    0.010878\n",
       "209                        quantity_insufficient    0.010358\n",
       "6                                installer_other    0.006734\n",
       "47                                   lga_Bariadi    0.006670\n",
       "196                         payment_type_unknown    0.006526\n",
       "3                                  installer_dwe    0.006180\n",
       "23                                 region_Iringa    0.006127\n",
       "213                         source_type_borehole    0.005897\n",
       "173            extraction_type_group_nira/tanira    0.005483\n",
       "210                            quantity_seasonal    0.005317\n",
       "138                                    lga_Rombo    0.005165\n",
       "195                      payment_type_per bucket    0.005099\n",
       "219                           source_type_spring    0.005072\n",
       "234                                  permit_True    0.004927\n",
       "217                       source_type_river/lake    0.004625\n",
       "204                           water_quality_soft    0.004558\n",
       "179                 extraction_type_group_swn 80    0.004360\n",
       "11                              basin_Lake Nyasa    0.004227\n",
       "182                extraction_type_class_gravity    0.004142\n",
       "218                     source_type_shallow well    0.004136\n",
       "4                                  installer_gov    0.004000\n",
       "233                                 permit_False    0.003850"
      ]
     },
     "execution_count": 83,
     "metadata": {},
     "output_type": "execute_result"
    }
   ],
   "source": [
    "importance = pd.DataFrame(modelrf.feature_importances_, columns=['Importance'])\n",
    "feature = pd.DataFrame(x_train.columns, columns=['Feature'])\n",
    "print(\"Number of features: \", feature.shape[0])\n",
    "fi = feature.join(importance.ix[:,])\n",
    "fi = fi.sort(['Importance'], ascending=False)\n",
    "fi.head(30)"
   ]
  },
  {
   "cell_type": "code",
   "execution_count": null,
   "metadata": {
    "collapsed": true
   },
   "outputs": [],
   "source": []
  }
 ],
 "metadata": {
  "anaconda-cloud": {},
  "kernelspec": {
   "display_name": "Python [python35]",
   "language": "python",
   "name": "Python [python35]"
  },
  "language_info": {
   "codemirror_mode": {
    "name": "ipython",
    "version": 3
   },
   "file_extension": ".py",
   "mimetype": "text/x-python",
   "name": "python",
   "nbconvert_exporter": "python",
   "pygments_lexer": "ipython3",
   "version": "3.5.2"
  }
 },
 "nbformat": 4,
 "nbformat_minor": 0
}
