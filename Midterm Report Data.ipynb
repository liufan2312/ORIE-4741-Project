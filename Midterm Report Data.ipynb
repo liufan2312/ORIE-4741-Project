{
 "cells": [
  {
   "cell_type": "code",
   "execution_count": 1,
   "metadata": {
    "collapsed": false
   },
   "outputs": [],
   "source": [
    "import numpy as np\n",
    "import pandas as pd\n",
    "import math as m\n",
    "import matplotlib.pyplot as plt\n",
    "from sklearn import preprocessing\n",
    "from sklearn.cross_validation import train_test_split\n",
    "from sklearn.linear_model import LogisticRegression\n",
    "from sklearn.ensemble import RandomForestClassifier\n",
    "from sklearn.ensemble import AdaBoostClassifier\n",
    "from sklearn.ensemble import BaggingClassifier\n",
    "from sklearn.metrics import accuracy_score\n",
    "from sklearn.linear_model import SGDClassifier\n",
    "from sklearn.svm import SVC\n",
    "from sklearn.tree import DecisionTreeClassifier\n",
    "from sklearn.cluster import KMeans\n",
    "%matplotlib inline"
   ]
  },
  {
   "cell_type": "markdown",
   "metadata": {},
   "source": [
    "# Import data"
   ]
  },
  {
   "cell_type": "code",
   "execution_count": 130,
   "metadata": {
    "collapsed": false
   },
   "outputs": [
    {
     "name": "stdout",
     "output_type": "stream",
     "text": [
      "(59400, 43)\n"
     ]
    },
    {
     "data": {
      "text/html": [
       "<div>\n",
       "<table border=\"1\" class=\"dataframe\">\n",
       "  <thead>\n",
       "    <tr style=\"text-align: right;\">\n",
       "      <th></th>\n",
       "      <th>Unnamed: 0</th>\n",
       "      <th>id</th>\n",
       "      <th>amount_tsh</th>\n",
       "      <th>date_recorded</th>\n",
       "      <th>funder</th>\n",
       "      <th>gps_height</th>\n",
       "      <th>installer</th>\n",
       "      <th>longitude</th>\n",
       "      <th>latitude</th>\n",
       "      <th>wpt_name</th>\n",
       "      <th>...</th>\n",
       "      <th>quality_group</th>\n",
       "      <th>quantity</th>\n",
       "      <th>quantity_group</th>\n",
       "      <th>source</th>\n",
       "      <th>source_type</th>\n",
       "      <th>source_class</th>\n",
       "      <th>waterpoint_type</th>\n",
       "      <th>waterpoint_type_group</th>\n",
       "      <th>elevation</th>\n",
       "      <th>status_group</th>\n",
       "    </tr>\n",
       "  </thead>\n",
       "  <tbody>\n",
       "    <tr>\n",
       "      <th>0</th>\n",
       "      <td>0</td>\n",
       "      <td>69572</td>\n",
       "      <td>6000.0</td>\n",
       "      <td>3/14/11</td>\n",
       "      <td>Roman</td>\n",
       "      <td>1390.000000</td>\n",
       "      <td>Roman</td>\n",
       "      <td>34.938093</td>\n",
       "      <td>-9.856322</td>\n",
       "      <td>none</td>\n",
       "      <td>...</td>\n",
       "      <td>good</td>\n",
       "      <td>enough</td>\n",
       "      <td>enough</td>\n",
       "      <td>spring</td>\n",
       "      <td>spring</td>\n",
       "      <td>groundwater</td>\n",
       "      <td>communal standpipe</td>\n",
       "      <td>communal standpipe</td>\n",
       "      <td>0.000000</td>\n",
       "      <td>functional</td>\n",
       "    </tr>\n",
       "    <tr>\n",
       "      <th>1</th>\n",
       "      <td>1</td>\n",
       "      <td>8776</td>\n",
       "      <td>0.0</td>\n",
       "      <td>3/6/13</td>\n",
       "      <td>Grumeti</td>\n",
       "      <td>1399.000000</td>\n",
       "      <td>GRUMETI</td>\n",
       "      <td>34.698766</td>\n",
       "      <td>-2.147466</td>\n",
       "      <td>Zahanati</td>\n",
       "      <td>...</td>\n",
       "      <td>good</td>\n",
       "      <td>insufficient</td>\n",
       "      <td>insufficient</td>\n",
       "      <td>rainwater harvesting</td>\n",
       "      <td>rainwater harvesting</td>\n",
       "      <td>surface</td>\n",
       "      <td>communal standpipe</td>\n",
       "      <td>communal standpipe</td>\n",
       "      <td>0.000000</td>\n",
       "      <td>functional</td>\n",
       "    </tr>\n",
       "    <tr>\n",
       "      <th>2</th>\n",
       "      <td>2</td>\n",
       "      <td>34310</td>\n",
       "      <td>25.0</td>\n",
       "      <td>2/25/13</td>\n",
       "      <td>Lottery Club</td>\n",
       "      <td>686.000000</td>\n",
       "      <td>World vision</td>\n",
       "      <td>37.460664</td>\n",
       "      <td>-3.821329</td>\n",
       "      <td>Kwa Mahundi</td>\n",
       "      <td>...</td>\n",
       "      <td>good</td>\n",
       "      <td>enough</td>\n",
       "      <td>enough</td>\n",
       "      <td>dam</td>\n",
       "      <td>dam</td>\n",
       "      <td>surface</td>\n",
       "      <td>communal standpipe multiple</td>\n",
       "      <td>communal standpipe</td>\n",
       "      <td>0.000000</td>\n",
       "      <td>functional</td>\n",
       "    </tr>\n",
       "    <tr>\n",
       "      <th>3</th>\n",
       "      <td>3</td>\n",
       "      <td>67743</td>\n",
       "      <td>0.0</td>\n",
       "      <td>1/28/13</td>\n",
       "      <td>Unicef</td>\n",
       "      <td>263.000000</td>\n",
       "      <td>UNICEF</td>\n",
       "      <td>38.486161</td>\n",
       "      <td>-11.155298</td>\n",
       "      <td>Zahanati Ya Nanyumbu</td>\n",
       "      <td>...</td>\n",
       "      <td>good</td>\n",
       "      <td>dry</td>\n",
       "      <td>dry</td>\n",
       "      <td>machine dbh</td>\n",
       "      <td>borehole</td>\n",
       "      <td>groundwater</td>\n",
       "      <td>communal standpipe multiple</td>\n",
       "      <td>communal standpipe</td>\n",
       "      <td>0.000000</td>\n",
       "      <td>non functional</td>\n",
       "    </tr>\n",
       "    <tr>\n",
       "      <th>4</th>\n",
       "      <td>4</td>\n",
       "      <td>19728</td>\n",
       "      <td>0.0</td>\n",
       "      <td>7/13/11</td>\n",
       "      <td>Action In A</td>\n",
       "      <td>1232.186157</td>\n",
       "      <td>Artisan</td>\n",
       "      <td>31.130847</td>\n",
       "      <td>-1.825359</td>\n",
       "      <td>Shuleni</td>\n",
       "      <td>...</td>\n",
       "      <td>good</td>\n",
       "      <td>seasonal</td>\n",
       "      <td>seasonal</td>\n",
       "      <td>rainwater harvesting</td>\n",
       "      <td>rainwater harvesting</td>\n",
       "      <td>surface</td>\n",
       "      <td>communal standpipe</td>\n",
       "      <td>communal standpipe</td>\n",
       "      <td>1232.186157</td>\n",
       "      <td>functional</td>\n",
       "    </tr>\n",
       "  </tbody>\n",
       "</table>\n",
       "<p>5 rows × 43 columns</p>\n",
       "</div>"
      ],
      "text/plain": [
       "   Unnamed: 0     id  amount_tsh date_recorded        funder   gps_height  \\\n",
       "0           0  69572      6000.0       3/14/11         Roman  1390.000000   \n",
       "1           1   8776         0.0        3/6/13       Grumeti  1399.000000   \n",
       "2           2  34310        25.0       2/25/13  Lottery Club   686.000000   \n",
       "3           3  67743         0.0       1/28/13        Unicef   263.000000   \n",
       "4           4  19728         0.0       7/13/11   Action In A  1232.186157   \n",
       "\n",
       "      installer  longitude   latitude              wpt_name       ...        \\\n",
       "0         Roman  34.938093  -9.856322                  none       ...         \n",
       "1       GRUMETI  34.698766  -2.147466              Zahanati       ...         \n",
       "2  World vision  37.460664  -3.821329           Kwa Mahundi       ...         \n",
       "3        UNICEF  38.486161 -11.155298  Zahanati Ya Nanyumbu       ...         \n",
       "4       Artisan  31.130847  -1.825359               Shuleni       ...         \n",
       "\n",
       "   quality_group      quantity quantity_group                source  \\\n",
       "0           good        enough         enough                spring   \n",
       "1           good  insufficient   insufficient  rainwater harvesting   \n",
       "2           good        enough         enough                   dam   \n",
       "3           good           dry            dry           machine dbh   \n",
       "4           good      seasonal       seasonal  rainwater harvesting   \n",
       "\n",
       "            source_type  source_class              waterpoint_type  \\\n",
       "0                spring   groundwater           communal standpipe   \n",
       "1  rainwater harvesting       surface           communal standpipe   \n",
       "2                   dam       surface  communal standpipe multiple   \n",
       "3              borehole   groundwater  communal standpipe multiple   \n",
       "4  rainwater harvesting       surface           communal standpipe   \n",
       "\n",
       "  waterpoint_type_group    elevation    status_group  \n",
       "0    communal standpipe     0.000000      functional  \n",
       "1    communal standpipe     0.000000      functional  \n",
       "2    communal standpipe     0.000000      functional  \n",
       "3    communal standpipe     0.000000  non functional  \n",
       "4    communal standpipe  1232.186157      functional  \n",
       "\n",
       "[5 rows x 43 columns]"
      ]
     },
     "execution_count": 130,
     "metadata": {},
     "output_type": "execute_result"
    }
   ],
   "source": [
    "training_set = pd.read_csv(\"gps_data.csv\")\n",
    "training_label = pd.read_csv(\"Training Set Labels.csv\")\n",
    "\n",
    "data = pd.merge(training_set, training_label, how=\"left\", on=\"id\")\n",
    "print(data.shape)\n",
    "data.head()"
   ]
  },
  {
   "cell_type": "markdown",
   "metadata": {},
   "source": [
    "# Cleansing & transform"
   ]
  },
  {
   "cell_type": "code",
   "execution_count": 131,
   "metadata": {
    "collapsed": false
   },
   "outputs": [],
   "source": [
    "# Drop columns\n",
    "feature_list = ['date_recorded', 'population', 'amount_tsh', 'installer','longitude', 'latitude', 'basin', 'gps_height',\n",
    "                'region', 'lga', 'extraction_type_group', 'extraction_type_class', 'construction_year', \n",
    "                'payment_type', 'water_quality', 'quantity', 'source_type', 'source_class', 'waterpoint_type', \n",
    "                'permit', 'status_group']\n",
    "\n",
    "# if we are using random forest, we don't really need to deal with all the 0s in construction year\n",
    "\n",
    "data = data[feature_list]\n",
    "# print(all_data.shape)"
   ]
  },
  {
   "cell_type": "code",
   "execution_count": 132,
   "metadata": {
    "collapsed": false
   },
   "outputs": [],
   "source": [
    "# Transform installer\n",
    "data['installer'] = data['installer'].str.lower()\n",
    "data['installer_dwe'] = data['installer'].apply(lambda x: 1 if x == 'dwe' else 0)\n",
    "data['installer_gov'] = data['installer'].str.contains('gov', na=False).astype(int)\n",
    "data['installer_nan'] = data['installer'].isnull().astype(int)\n",
    "data['installer_other'] = (data['installer_dwe'] + data['installer_gov'] + data['installer_nan']) * (-1) + 1\n",
    "data = data.drop('installer', axis=1)"
   ]
  },
  {
   "cell_type": "code",
   "execution_count": 133,
   "metadata": {
    "collapsed": false
   },
   "outputs": [],
   "source": [
    "# Transform funder\n",
    "# Keep the top 10 funders and mark NaN\n",
    "#funder10 = data.groupby('funder').size().sort_values(ascending=False).index.tolist()[0 : 11]\n",
    "#other = data['funder'].apply(lambda x: 0)\n",
    "#for funder in funder10:\n",
    "#    col = data['funder'].apply(lambda x: 1 if x == funder else 0)\n",
    "#    other += col\n",
    "#    data[('funder_' + funder)] = col\n",
    "\n",
    "#data['funder_nan'] = data['funder'].isnull().astype(int)\n",
    "#data['funder_other'] = (other + all_data['funder_nan']) * (-1) + 1\n",
    "#data = data.drop('funder', axis=1)"
   ]
  },
  {
   "cell_type": "code",
   "execution_count": 134,
   "metadata": {
    "collapsed": false
   },
   "outputs": [],
   "source": [
    "# Transform datetime\n",
    "date_recorded = pd.to_datetime(data[\"date_recorded\"])\n",
    "data['month'] = date_recorded.apply(lambda x: x.month).astype(str)\n",
    "time_delta = (date_recorded - date_recorded.min()).astype('timedelta64[D]').astype(int) + 1\n",
    "data[\"time_difference\"] = time_delta\n",
    "data = data.drop(\"date_recorded\", axis=1)\n",
    "\n",
    "# Add rain season and dry season\n",
    "dry = ['6', '7', '8', '9', '10']\n",
    "data['dry_season'] = data['month'].apply(lambda x: 1 if x in dry else 0)\n",
    "data['rain_season'] = data['dry_season'].apply(lambda x: 1 if x == 0 else 1)"
   ]
  },
  {
   "cell_type": "code",
   "execution_count": 135,
   "metadata": {
    "collapsed": false
   },
   "outputs": [],
   "source": [
    "# Generate dummy\n",
    "categorical = ['basin', 'region', 'lga', 'extraction_type_group', 'extraction_type_class', 'payment_type',\n",
    "               'water_quality', 'quantity', 'source_type', 'source_class', 'waterpoint_type', 'permit', 'month']\n",
    "\n",
    "for item in categorical:\n",
    "    dummy = pd.get_dummies(data[item], prefix=item, dummy_na=True)  # Create one more column indicating data missing\n",
    "    data = data.join(dummy.ix[:, :])\n",
    "    data = data.drop(item, axis=1)"
   ]
  },
  {
   "cell_type": "code",
   "execution_count": 136,
   "metadata": {
    "collapsed": true
   },
   "outputs": [],
   "source": [
    "# Function for feature transform\n",
    "def transform(data):\n",
    "    # Add column \"population_0\", \"gps_height_0\" and \"amount_tsh_0\"\n",
    "    data['population_0'] = data['population'].apply(lambda x: 1 if x == 0 else 0)\n",
    "    data['gps_height_0'] = data['gps_height'].apply(lambda x: 1 if x == 0 else 0)\n",
    "    data['amount_tsh_0'] = data['amount_tsh'].apply(lambda x: 1 if x == 0 else 0)\n",
    "\n",
    "    # Transform extremely skewed columns \"population\" and \"amount_tsh\"\n",
    "    data['population'] = data['population'].apply(lambda x: m.log2(x + 1) if x < 5000 else m.log2(5000))\n",
    "    data['amount_tsh'] = data['amount_tsh'].apply(lambda x: m.log2(x + 1) if x < 5000 else m.log2(5000))\n",
    "    #data['gps_height'] = data['gps_height'].apply(lambda x: m.log2(x + 1) if x < 5000 else m.log2(5000))\n",
    "\n",
    "    # Standardize continuous variables\n",
    "    #continuous = ['longitude', 'latitude', 'time_difference', 'gps_height', 'population', 'amount_tsh']\n",
    "    #scalar = preprocessing.StandardScaler()\n",
    "    #scalar.fit(data[continuous])\n",
    "    #data[continuous] = scalar.transform(data[continuous])\n",
    "        \n",
    "    return data\n"
   ]
  },
  {
   "cell_type": "code",
   "execution_count": 137,
   "metadata": {
    "collapsed": false
   },
   "outputs": [],
   "source": [
    "# Transform and split data\n",
    "data = transform(data)"
   ]
  },
  {
   "cell_type": "code",
   "execution_count": 114,
   "metadata": {
    "collapsed": true
   },
   "outputs": [],
   "source": [
    "# K-means clustering for location features\n",
    "sub_data = data[data['longitude'] != 0]\n",
    "location = sub_data[['longitude', 'latitude', 'gps_height']]\n",
    "kmeans = KMeans(n_clusters=30, random_state=0).fit(location)\n",
    "centroids = kmeans.cluster_centers_\n",
    "\n",
    "# Create new features that decribes the distance to each centroid\n",
    "count = 1\n",
    "for centroid in centroids:\n",
    "    column_name = 'centroid_' + str(count)\n",
    "    count += 1\n",
    "    data[column_name] = ((data['longitude'] - centroid[0])**2 + (data['latitude'] - centroid[1])**2 +\n",
    "                         (data['gps_height'] - centroid[1])**2).apply(lambda x: m.sqrt(x))\n",
    "    \n",
    "#data = data.drop(['gps_height'], axis=1)"
   ]
  },
  {
   "cell_type": "code",
   "execution_count": 115,
   "metadata": {
    "collapsed": true
   },
   "outputs": [],
   "source": [
    "def find_centroid(longitude, latitude, height, centroids):\n",
    "    closest = 0\n",
    "    centroid = centroids[0]\n",
    "    min_dis = (longitude - centroid[0])**2 + (latitude - centroid[1])**2 + (height - centroid[2])**2\n",
    "    for i in range(1, centroids.shape[0]):\n",
    "        dis = (longitude - centroids[i][0])**2 + (latitude - centroids[i][1])**2 + (height - centroid[2])**2\n",
    "        if dis < min_dis:\n",
    "            min_dis = dis\n",
    "            closest = i\n",
    "            centroid = centroids[i]\n",
    "    return closest, centroid"
   ]
  },
  {
   "cell_type": "code",
   "execution_count": 116,
   "metadata": {
    "collapsed": false
   },
   "outputs": [],
   "source": [
    "# Find out which centroid it belongs to \n",
    "location_data = data[['longitude', 'latitude', 'gps_height']].as_matrix()\n",
    "which_centroid = np.zeros(data.shape[0])\n",
    "for i in range(0, data.shape[0]):\n",
    "    which_centroid[i], dummy = find_centroid(location_data[i][0], location_data[i][1], location_data[i][2], centroids)\n",
    "data['which_centroid'] = which_centroid\n",
    "data['which_centroid'] = data['which_centroid'].astype(str)\n",
    "dummy = pd.get_dummies(data['which_centroid'], prefix='which_centroid')\n",
    "data = data.join(dummy.ix[:, :])\n",
    "data = data.drop('which_centroid', axis=1)"
   ]
  },
  {
   "cell_type": "code",
   "execution_count": 144,
   "metadata": {
    "collapsed": false
   },
   "outputs": [],
   "source": [
    "train, other = train_test_split(data, test_size=0.2)\n",
    "cv, test = train_test_split(other, test_size=0.5)"
   ]
  },
  {
   "cell_type": "code",
   "execution_count": 145,
   "metadata": {
    "collapsed": false
   },
   "outputs": [],
   "source": [
    "# Remove outliers in training set\n",
    "train = train[train[\"longitude\"] != 0]"
   ]
  },
  {
   "cell_type": "code",
   "execution_count": 146,
   "metadata": {
    "collapsed": false
   },
   "outputs": [
    {
     "data": {
      "text/html": [
       "<div>\n",
       "<table border=\"1\" class=\"dataframe\">\n",
       "  <thead>\n",
       "    <tr style=\"text-align: right;\">\n",
       "      <th></th>\n",
       "      <th>population</th>\n",
       "      <th>amount_tsh</th>\n",
       "      <th>longitude</th>\n",
       "      <th>latitude</th>\n",
       "      <th>gps_height</th>\n",
       "      <th>construction_year</th>\n",
       "      <th>installer_dwe</th>\n",
       "      <th>installer_gov</th>\n",
       "      <th>installer_nan</th>\n",
       "      <th>installer_other</th>\n",
       "      <th>...</th>\n",
       "      <th>month_4</th>\n",
       "      <th>month_5</th>\n",
       "      <th>month_6</th>\n",
       "      <th>month_7</th>\n",
       "      <th>month_8</th>\n",
       "      <th>month_9</th>\n",
       "      <th>month_nan</th>\n",
       "      <th>population_0</th>\n",
       "      <th>gps_height_0</th>\n",
       "      <th>amount_tsh_0</th>\n",
       "    </tr>\n",
       "  </thead>\n",
       "  <tbody>\n",
       "    <tr>\n",
       "      <th>count</th>\n",
       "      <td>46064.000000</td>\n",
       "      <td>46064.000000</td>\n",
       "      <td>46064.000000</td>\n",
       "      <td>46064.000000</td>\n",
       "      <td>46064.000000</td>\n",
       "      <td>46064.000000</td>\n",
       "      <td>46064.000000</td>\n",
       "      <td>46064.000000</td>\n",
       "      <td>46064.000000</td>\n",
       "      <td>46064.000000</td>\n",
       "      <td>...</td>\n",
       "      <td>46064.000000</td>\n",
       "      <td>46064.000000</td>\n",
       "      <td>46064.000000</td>\n",
       "      <td>46064.000000</td>\n",
       "      <td>46064.000000</td>\n",
       "      <td>46064.000000</td>\n",
       "      <td>46064.0</td>\n",
       "      <td>46064.000000</td>\n",
       "      <td>46064.0</td>\n",
       "      <td>46064.000000</td>\n",
       "    </tr>\n",
       "    <tr>\n",
       "      <th>mean</th>\n",
       "      <td>4.192360</td>\n",
       "      <td>2.345598</td>\n",
       "      <td>35.137858</td>\n",
       "      <td>-5.888727</td>\n",
       "      <td>1082.670991</td>\n",
       "      <td>1340.999218</td>\n",
       "      <td>0.285516</td>\n",
       "      <td>0.062999</td>\n",
       "      <td>0.062978</td>\n",
       "      <td>0.588507</td>\n",
       "      <td>...</td>\n",
       "      <td>0.069078</td>\n",
       "      <td>0.005601</td>\n",
       "      <td>0.005905</td>\n",
       "      <td>0.116599</td>\n",
       "      <td>0.052774</td>\n",
       "      <td>0.005709</td>\n",
       "      <td>0.0</td>\n",
       "      <td>0.340201</td>\n",
       "      <td>0.0</td>\n",
       "      <td>0.692536</td>\n",
       "    </tr>\n",
       "    <tr>\n",
       "      <th>std</th>\n",
       "      <td>3.830085</td>\n",
       "      <td>3.815928</td>\n",
       "      <td>2.604988</td>\n",
       "      <td>2.813024</td>\n",
       "      <td>544.327898</td>\n",
       "      <td>937.862141</td>\n",
       "      <td>0.451665</td>\n",
       "      <td>0.242964</td>\n",
       "      <td>0.242925</td>\n",
       "      <td>0.492109</td>\n",
       "      <td>...</td>\n",
       "      <td>0.253589</td>\n",
       "      <td>0.074630</td>\n",
       "      <td>0.076617</td>\n",
       "      <td>0.320945</td>\n",
       "      <td>0.223585</td>\n",
       "      <td>0.075346</td>\n",
       "      <td>0.0</td>\n",
       "      <td>0.473782</td>\n",
       "      <td>0.0</td>\n",
       "      <td>0.461448</td>\n",
       "    </tr>\n",
       "    <tr>\n",
       "      <th>min</th>\n",
       "      <td>0.000000</td>\n",
       "      <td>0.000000</td>\n",
       "      <td>29.607122</td>\n",
       "      <td>-11.649440</td>\n",
       "      <td>-135.830231</td>\n",
       "      <td>0.000000</td>\n",
       "      <td>0.000000</td>\n",
       "      <td>0.000000</td>\n",
       "      <td>0.000000</td>\n",
       "      <td>0.000000</td>\n",
       "      <td>...</td>\n",
       "      <td>0.000000</td>\n",
       "      <td>0.000000</td>\n",
       "      <td>0.000000</td>\n",
       "      <td>0.000000</td>\n",
       "      <td>0.000000</td>\n",
       "      <td>0.000000</td>\n",
       "      <td>0.0</td>\n",
       "      <td>0.000000</td>\n",
       "      <td>0.0</td>\n",
       "      <td>0.000000</td>\n",
       "    </tr>\n",
       "    <tr>\n",
       "      <th>25%</th>\n",
       "      <td>0.000000</td>\n",
       "      <td>0.000000</td>\n",
       "      <td>33.279879</td>\n",
       "      <td>-8.659860</td>\n",
       "      <td>738.000000</td>\n",
       "      <td>0.000000</td>\n",
       "      <td>0.000000</td>\n",
       "      <td>0.000000</td>\n",
       "      <td>0.000000</td>\n",
       "      <td>0.000000</td>\n",
       "      <td>...</td>\n",
       "      <td>0.000000</td>\n",
       "      <td>0.000000</td>\n",
       "      <td>0.000000</td>\n",
       "      <td>0.000000</td>\n",
       "      <td>0.000000</td>\n",
       "      <td>0.000000</td>\n",
       "      <td>0.0</td>\n",
       "      <td>0.000000</td>\n",
       "      <td>0.0</td>\n",
       "      <td>0.000000</td>\n",
       "    </tr>\n",
       "    <tr>\n",
       "      <th>50%</th>\n",
       "      <td>5.169925</td>\n",
       "      <td>0.000000</td>\n",
       "      <td>35.001471</td>\n",
       "      <td>-5.169043</td>\n",
       "      <td>1194.000000</td>\n",
       "      <td>1988.000000</td>\n",
       "      <td>0.000000</td>\n",
       "      <td>0.000000</td>\n",
       "      <td>0.000000</td>\n",
       "      <td>1.000000</td>\n",
       "      <td>...</td>\n",
       "      <td>0.000000</td>\n",
       "      <td>0.000000</td>\n",
       "      <td>0.000000</td>\n",
       "      <td>0.000000</td>\n",
       "      <td>0.000000</td>\n",
       "      <td>0.000000</td>\n",
       "      <td>0.0</td>\n",
       "      <td>0.000000</td>\n",
       "      <td>0.0</td>\n",
       "      <td>1.000000</td>\n",
       "    </tr>\n",
       "    <tr>\n",
       "      <th>75%</th>\n",
       "      <td>7.851749</td>\n",
       "      <td>4.954196</td>\n",
       "      <td>37.213055</td>\n",
       "      <td>-3.372739</td>\n",
       "      <td>1426.071411</td>\n",
       "      <td>2004.000000</td>\n",
       "      <td>1.000000</td>\n",
       "      <td>0.000000</td>\n",
       "      <td>0.000000</td>\n",
       "      <td>1.000000</td>\n",
       "      <td>...</td>\n",
       "      <td>0.000000</td>\n",
       "      <td>0.000000</td>\n",
       "      <td>0.000000</td>\n",
       "      <td>0.000000</td>\n",
       "      <td>0.000000</td>\n",
       "      <td>0.000000</td>\n",
       "      <td>0.0</td>\n",
       "      <td>1.000000</td>\n",
       "      <td>0.0</td>\n",
       "      <td>1.000000</td>\n",
       "    </tr>\n",
       "    <tr>\n",
       "      <th>max</th>\n",
       "      <td>12.287712</td>\n",
       "      <td>12.287712</td>\n",
       "      <td>40.345193</td>\n",
       "      <td>-0.998464</td>\n",
       "      <td>2826.381104</td>\n",
       "      <td>2013.000000</td>\n",
       "      <td>1.000000</td>\n",
       "      <td>1.000000</td>\n",
       "      <td>1.000000</td>\n",
       "      <td>1.000000</td>\n",
       "      <td>...</td>\n",
       "      <td>1.000000</td>\n",
       "      <td>1.000000</td>\n",
       "      <td>1.000000</td>\n",
       "      <td>1.000000</td>\n",
       "      <td>1.000000</td>\n",
       "      <td>1.000000</td>\n",
       "      <td>0.0</td>\n",
       "      <td>1.000000</td>\n",
       "      <td>0.0</td>\n",
       "      <td>1.000000</td>\n",
       "    </tr>\n",
       "  </tbody>\n",
       "</table>\n",
       "<p>8 rows × 255 columns</p>\n",
       "</div>"
      ],
      "text/plain": [
       "         population    amount_tsh     longitude      latitude    gps_height  \\\n",
       "count  46064.000000  46064.000000  46064.000000  46064.000000  46064.000000   \n",
       "mean       4.192360      2.345598     35.137858     -5.888727   1082.670991   \n",
       "std        3.830085      3.815928      2.604988      2.813024    544.327898   \n",
       "min        0.000000      0.000000     29.607122    -11.649440   -135.830231   \n",
       "25%        0.000000      0.000000     33.279879     -8.659860    738.000000   \n",
       "50%        5.169925      0.000000     35.001471     -5.169043   1194.000000   \n",
       "75%        7.851749      4.954196     37.213055     -3.372739   1426.071411   \n",
       "max       12.287712     12.287712     40.345193     -0.998464   2826.381104   \n",
       "\n",
       "       construction_year  installer_dwe  installer_gov  installer_nan  \\\n",
       "count       46064.000000   46064.000000   46064.000000   46064.000000   \n",
       "mean         1340.999218       0.285516       0.062999       0.062978   \n",
       "std           937.862141       0.451665       0.242964       0.242925   \n",
       "min             0.000000       0.000000       0.000000       0.000000   \n",
       "25%             0.000000       0.000000       0.000000       0.000000   \n",
       "50%          1988.000000       0.000000       0.000000       0.000000   \n",
       "75%          2004.000000       1.000000       0.000000       0.000000   \n",
       "max          2013.000000       1.000000       1.000000       1.000000   \n",
       "\n",
       "       installer_other      ...            month_4       month_5  \\\n",
       "count     46064.000000      ...       46064.000000  46064.000000   \n",
       "mean          0.588507      ...           0.069078      0.005601   \n",
       "std           0.492109      ...           0.253589      0.074630   \n",
       "min           0.000000      ...           0.000000      0.000000   \n",
       "25%           0.000000      ...           0.000000      0.000000   \n",
       "50%           1.000000      ...           0.000000      0.000000   \n",
       "75%           1.000000      ...           0.000000      0.000000   \n",
       "max           1.000000      ...           1.000000      1.000000   \n",
       "\n",
       "            month_6       month_7       month_8       month_9  month_nan  \\\n",
       "count  46064.000000  46064.000000  46064.000000  46064.000000    46064.0   \n",
       "mean       0.005905      0.116599      0.052774      0.005709        0.0   \n",
       "std        0.076617      0.320945      0.223585      0.075346        0.0   \n",
       "min        0.000000      0.000000      0.000000      0.000000        0.0   \n",
       "25%        0.000000      0.000000      0.000000      0.000000        0.0   \n",
       "50%        0.000000      0.000000      0.000000      0.000000        0.0   \n",
       "75%        0.000000      0.000000      0.000000      0.000000        0.0   \n",
       "max        1.000000      1.000000      1.000000      1.000000        0.0   \n",
       "\n",
       "       population_0  gps_height_0  amount_tsh_0  \n",
       "count  46064.000000       46064.0  46064.000000  \n",
       "mean       0.340201           0.0      0.692536  \n",
       "std        0.473782           0.0      0.461448  \n",
       "min        0.000000           0.0      0.000000  \n",
       "25%        0.000000           0.0      0.000000  \n",
       "50%        0.000000           0.0      1.000000  \n",
       "75%        1.000000           0.0      1.000000  \n",
       "max        1.000000           0.0      1.000000  \n",
       "\n",
       "[8 rows x 255 columns]"
      ]
     },
     "execution_count": 146,
     "metadata": {},
     "output_type": "execute_result"
    }
   ],
   "source": [
    "train.describe()"
   ]
  },
  {
   "cell_type": "code",
   "execution_count": 147,
   "metadata": {
    "collapsed": false
   },
   "outputs": [],
   "source": [
    "y_train = train['status_group']\n",
    "x_train = train.drop(['status_group'], axis=1)\n",
    "y_cv = cv['status_group']\n",
    "x_cv = cv.drop(['status_group'], axis=1)"
   ]
  },
  {
   "cell_type": "code",
   "execution_count": 148,
   "metadata": {
    "collapsed": true
   },
   "outputs": [],
   "source": [
    "y_test = test['status_group']\n",
    "x_test = test.drop(['status_group'], axis=1)"
   ]
  },
  {
   "cell_type": "markdown",
   "metadata": {},
   "source": [
    "# Fit model"
   ]
  },
  {
   "cell_type": "code",
   "execution_count": 17,
   "metadata": {
    "collapsed": false
   },
   "outputs": [
    {
     "name": "stdout",
     "output_type": "stream",
     "text": [
      "Training accuracy:  0.745454545455\n",
      "Cross validation accuracy:  0.751290684624\n"
     ]
    }
   ],
   "source": [
    "# Fit logistic regression model\n",
    "model = LogisticRegression(penalty='l1', C=1, multi_class='ovr')\n",
    "model.fit(x_train, y_train)\n",
    "print(\"Training accuracy: \", model.score(x_train, y_train))\n",
    "print(\"Cross validation accuracy: \", model.score(x_cv, y_cv))"
   ]
  },
  {
   "cell_type": "code",
   "execution_count": 146,
   "metadata": {
    "collapsed": false
   },
   "outputs": [
    {
     "name": "stdout",
     "output_type": "stream",
     "text": [
      "Training accuracy:  0.728787878788\n",
      "Cross validation accuracy:  0.728002244669\n"
     ]
    }
   ],
   "source": [
    "# Fit SVM\n",
    "model = SVC(decision_function_shape='ovr', kernel='rbf')\n",
    "model.fit(x_train, y_train)\n",
    "print(\"Training accuracy: \", model.score(x_train, y_train))\n",
    "print(\"Cross validation accuracy: \", model.score(x_cv, y_cv))"
   ]
  },
  {
   "cell_type": "code",
   "execution_count": 40,
   "metadata": {
    "collapsed": false
   },
   "outputs": [
    {
     "name": "stdout",
     "output_type": "stream",
     "text": [
      "Training accuracy:  0.940480334145\n",
      "Cross validation accuracy:  0.727861952862\n"
     ]
    }
   ],
   "source": [
    "# Fit a single decision tree\n",
    "model = DecisionTreeClassifier(max_features=None, max_depth=20)\n",
    "model.fit(x_train, y_train)\n",
    "print(\"Training accuracy: \", model.score(x_train, y_train))\n",
    "print(\"Cross validation accuracy: \", model.score(x_cv, y_cv))"
   ]
  },
  {
   "cell_type": "code",
   "execution_count": 145,
   "metadata": {
    "collapsed": false
   },
   "outputs": [
    {
     "name": "stdout",
     "output_type": "stream",
     "text": [
      "Training accuracy:  0.924579124579\n",
      "Cross validation accuracy:  0.78608305275\n"
     ]
    }
   ],
   "source": [
    "# Fit bagging model\n",
    "base_model = DecisionTreeClassifier(max_features=None, max_depth=20)\n",
    "#base_model = LogisticRegression(penalty='l2', C=10, multi_class='ovr')\n",
    "model = BaggingClassifier(base_estimator=base_model, n_estimators=50)\n",
    "model.fit(x_train, y_train)\n",
    "print(\"Training accuracy: \", model.score(x_train, y_train))\n",
    "print(\"Cross validation accuracy: \", model.score(x_cv, y_cv))"
   ]
  },
  {
   "cell_type": "code",
   "execution_count": 150,
   "metadata": {
    "collapsed": false
   },
   "outputs": [
    {
     "name": "stdout",
     "output_type": "stream",
     "text": [
      "Training accuracy:  0.993422195207\n",
      "Cross validation accuracy:  0.798653198653\n"
     ]
    }
   ],
   "source": [
    "# Fit random forest\n",
    "modelrf = RandomForestClassifier(n_estimators=100, max_depth=30, max_features='auto')\n",
    "modelrf.fit(x_train, y_train)\n",
    "print(\"Training accuracy: \", modelrf.score(x_train, y_train))\n",
    "print(\"Cross validation accuracy: \", modelrf.score(x_cv, y_cv))"
   ]
  },
  {
   "cell_type": "code",
   "execution_count": 119,
   "metadata": {
    "collapsed": false
   },
   "outputs": [
    {
     "name": "stdout",
     "output_type": "stream",
     "text": [
      "Training accuracy:  1.0\n",
      "Cross validation accuracy:  0.727205387205\n"
     ]
    }
   ],
   "source": [
    "# Fit boosted model\n",
    "base_model = DecisionTreeClassifier(max_features='auto', max_depth=30)\n",
    "#base_model = LogisticRegression(penalty='l2', C=10, multi_class='ovr')\n",
    "model = AdaBoostClassifier(base_estimator=base_model, n_estimators=10)\n",
    "model.fit(x_train, y_train)\n",
    "print(\"Training accuracy: \", model.score(x_train, y_train))\n",
    "print(\"Cross validation accuracy: \", model.score(x_cv, y_cv))"
   ]
  },
  {
   "cell_type": "markdown",
   "metadata": {},
   "source": [
    "# Plot misclassified points"
   ]
  },
  {
   "cell_type": "code",
   "execution_count": 37,
   "metadata": {
    "collapsed": false
   },
   "outputs": [],
   "source": [
    "y_cv_pred = modelrf.predict(x_cv)\n",
    "mis = x_cv[y_cv_pred != y_cv]\n",
    "correct = x_cv[y_cv_pred == y_cv]"
   ]
  },
  {
   "cell_type": "code",
   "execution_count": 38,
   "metadata": {
    "collapsed": true
   },
   "outputs": [],
   "source": [
    "# Since there is outliers in the test set, we remove them from the plot\n",
    "mis = mis[mis['longitude'] != 0]\n",
    "correct = correct[correct['longitude'] != 0]"
   ]
  },
  {
   "cell_type": "code",
   "execution_count": 39,
   "metadata": {
    "collapsed": false
   },
   "outputs": [
    {
     "data": {
      "text/plain": [
       "[<matplotlib.lines.Line2D at 0x11aef5b70>]"
      ]
     },
     "execution_count": 39,
     "metadata": {},
     "output_type": "execute_result"
    },
    {
     "data": {
      "image/png": "[encoded data removed]",
      "text/plain": [
       "<matplotlib.figure.Figure at 0x11a1d2d68>"
      ]
     },
     "metadata": {},
     "output_type": "display_data"
    }
   ],
   "source": [
    "fig = plt.figure(figsize=(12,12))\n",
    "plt.plot(mis['longitude'], mis['latitude'], \",r\", alpha=1)"
   ]
  },
  {
   "cell_type": "code",
   "execution_count": 40,
   "metadata": {
    "collapsed": false
   },
   "outputs": [
    {
     "data": {
      "image/png": "[encoded data removed]",
      "text/plain": [
       "<matplotlib.figure.Figure at 0x117ed9898>"
      ]
     },
     "metadata": {},
     "output_type": "display_data"
    }
   ],
   "source": [
    "list_features = ['longitude', 'latitude', 'gps_height', 'population', 'amount_tsh', 'time_difference']\n",
    "fig = plt.figure(figsize=(12,12))\n",
    "for i in range(0, 6):\n",
    "    plt.subplot(3, 2, i+1)\n",
    "    plt.hist(mis[list_features[i]], 50)\n",
    "    plt.title(list_features[i])\n",
    "plt.show()"
   ]
  },
  {
   "cell_type": "code",
   "execution_count": 41,
   "metadata": {
    "collapsed": false
   },
   "outputs": [
    {
     "data": {
      "text/plain": [
       "[<matplotlib.lines.Line2D at 0x11aa17438>]"
      ]
     },
     "execution_count": 41,
     "metadata": {},
     "output_type": "execute_result"
    },
    {
     "data": {
      "image/png": "[encoded data removed]",
      "text/plain": [
       "<matplotlib.figure.Figure at 0x11aee5470>"
      ]
     },
     "metadata": {},
     "output_type": "display_data"
    }
   ],
   "source": [
    "sub_cv = x_cv[x_cv['longitude'] != 0]\n",
    "\n",
    "item = 'gps_height'\n",
    "maximum = sub_cv[item].max()\n",
    "minimum = sub_cv[item].min()\n",
    "\n",
    "bin_size = (maximum - minimum)/100\n",
    "num_right = np.zeros(100)\n",
    "num_wrong = np.zeros(100)\n",
    "\n",
    "for i in range(0, 100):\n",
    "    lb = minimum\n",
    "    ub = minimum + bin_size\n",
    "    minimum += bin_size\n",
    "    num_right[i] = correct[(correct[item] >= lb) & (correct[item] < ub)].shape[0]\n",
    "    num_wrong[i] = mis[(mis[item] >= lb) & (mis[item] < ub)].shape[0]\n",
    "\n",
    "percent = num_wrong / (num_wrong + num_right)\n",
    "plt.plot(np.linspace(sub_cv[item].min(), sub_cv[item].max(), 100), percent)"
   ]
  },
  {
   "cell_type": "markdown",
   "metadata": {},
   "source": [
    "# Training a different mdoel for cases where gps_height = 0"
   ]
  },
  {
   "cell_type": "code",
   "execution_count": 53,
   "metadata": {
    "collapsed": true
   },
   "outputs": [],
   "source": [
    "train1 = train[train['amount_tsh'] > 0]\n",
    "train2 = train[train['amount_tsh'] == 0]\n",
    "\n",
    "cv1 = cv[cv['amount_tsh'] > 0]\n",
    "cv2 = cv[cv['amount_tsh'] == 0]\n",
    "\n",
    "y_train1 = train1['status_group']\n",
    "x_train1 = train1.drop(['status_group'], axis=1)\n",
    "y_train2 = train2['status_group']\n",
    "x_train2 = train2.drop(['status_group'], axis=1)\n",
    "\n",
    "y_cv1 = cv1['status_group']\n",
    "x_cv1 = cv1.drop(['status_group'], axis=1)\n",
    "y_cv2 = cv2['status_group']\n",
    "x_cv2 = cv2.drop(['status_group'], axis=1)"
   ]
  },
  {
   "cell_type": "code",
   "execution_count": 54,
   "metadata": {
    "collapsed": false
   },
   "outputs": [
    {
     "name": "stdout",
     "output_type": "stream",
     "text": [
      "8971 19871\n"
     ]
    }
   ],
   "source": [
    "size1 = train1.shape[0]\n",
    "size2 = train2.shape[0]\n",
    "#size3 = train3.shape[0]\n",
    "#size4 = train4.shape[0]\n",
    "print(size1, size2) #, size3, size4)"
   ]
  },
  {
   "cell_type": "code",
   "execution_count": 55,
   "metadata": {
    "collapsed": false
   },
   "outputs": [
    {
     "name": "stdout",
     "output_type": "stream",
     "text": [
      "Training accuracy:  0.998662356482\n",
      "Cross validation accuracy:  0.821670428894\n"
     ]
    }
   ],
   "source": [
    "model1 = RandomForestClassifier(n_estimators=100, max_depth=30, max_features='auto')\n",
    "model1.fit(x_train1, y_train1)\n",
    "train_accu1 = model1.score(x_train1, y_train1)\n",
    "cv_accu1 = model1.score(x_cv1, y_cv1)\n",
    "print(\"Training accuracy: \", train_accu1)\n",
    "print(\"Cross validation accuracy: \", cv_accu1)"
   ]
  },
  {
   "cell_type": "code",
   "execution_count": 56,
   "metadata": {
    "collapsed": false
   },
   "outputs": [
    {
     "name": "stdout",
     "output_type": "stream",
     "text": [
      "Training accuracy:  0.996779226008\n",
      "Cross validation accuracy:  0.786084452975\n"
     ]
    }
   ],
   "source": [
    "model2 = RandomForestClassifier(n_estimators=100, max_depth=30, max_features='auto')\n",
    "model2.fit(x_train2, y_train2)\n",
    "train_accu2 = model2.score(x_train2, y_train2)\n",
    "cv_accu2 = model2.score(x_cv2, y_cv2)\n",
    "print(\"Training accuracy: \", train_accu2)\n",
    "print(\"Cross validation accuracy: \", cv_accu2)"
   ]
  },
  {
   "cell_type": "code",
   "execution_count": 52,
   "metadata": {
    "collapsed": false
   },
   "outputs": [
    {
     "data": {
      "text/plain": [
       "0.79561661613237344"
      ]
     },
     "execution_count": 52,
     "metadata": {},
     "output_type": "execute_result"
    }
   ],
   "source": [
    "# overall accuracy\n",
    "(size1 * cv_accu1 + size2 * cv_accu2)/(size1 + size2)\n",
    "#(size1 * cv_accu1 + size2 * cv_accu2 + size3 * cv_accu3 + size4 * cv_accu4)/(size1 + size2 + size3 + size4)"
   ]
  },
  {
   "cell_type": "markdown",
   "metadata": {},
   "source": [
    "# Plot accuracy against n_estimators"
   ]
  },
  {
   "cell_type": "code",
   "execution_count": 91,
   "metadata": {
    "collapsed": false
   },
   "outputs": [],
   "source": [
    "accuracy_cv = np.zeros(100)\n",
    "accuracy_train = np.zeros(100)\n",
    "for i in range(1, 101):\n",
    "    model = RandomForestClassifier(n_estimators=i, max_depth=20, max_features='auto')\n",
    "    model.fit(x_train, y_train)\n",
    "    accuracy_cv[i - 1] = model.score(x_cv, y_cv)\n",
    "    accuracy_train[i - 1] = model.score(x_train, y_train)"
   ]
  },
  {
   "cell_type": "code",
   "execution_count": 95,
   "metadata": {
    "collapsed": false
   },
   "outputs": [
    {
     "data": {
      "image/png": "[encoded data removed]",
      "text/plain": [
       "<matplotlib.figure.Figure at 0x117b716a0>"
      ]
     },
     "metadata": {},
     "output_type": "display_data"
    }
   ],
   "source": [
    "fig = plt.figure(figsize=(8,6))\n",
    "x = np.linspace(1, 100, 100)\n",
    "y1 = 1 - accuracy_train\n",
    "y2 = 1 - accuracy_cv\n",
    "\n",
    "plt.plot(x, y1, label='training error', color='green')\n",
    "plt.plot(x, y2, label='testing error', color='blue')\n",
    "\n",
    "plt.fill_between(x, 0, y2, where=y2 >= 0, facecolor='blue', alpha=0.05)\n",
    "plt.fill_between(x, 0, y1, where=y1 >= 0, facecolor='green', alpha=0.1)\n",
    "\n",
    "plt.title('Change in accuracy as number of trees increases')\n",
    "plt.xlim(1, 40)\n",
    "plt.ylabel(\"error\")\n",
    "plt.xlabel(\"number of trees\")\n",
    "plt.legend()\n",
    "plt.grid()\n",
    "\n",
    "plt.show()"
   ]
  },
  {
   "cell_type": "code",
   "execution_count": 105,
   "metadata": {
    "collapsed": false,
    "scrolled": false
   },
   "outputs": [
    {
     "name": "stdout",
     "output_type": "stream",
     "text": [
      "Number of features:  255\n"
     ]
    },
    {
     "name": "stderr",
     "output_type": "stream",
     "text": [
      "/Users/Fan/anaconda/envs/python35/lib/python3.5/site-packages/ipykernel/__main__.py:5: FutureWarning: sort(columns=....) is deprecated, use sort_values(by=.....)\n"
     ]
    },
    {
     "data": {
      "text/html": [
       "<div>\n",
       "<table border=\"1\" class=\"dataframe\">\n",
       "  <thead>\n",
       "    <tr style=\"text-align: right;\">\n",
       "      <th></th>\n",
       "      <th>Feature</th>\n",
       "      <th>Importance</th>\n",
       "    </tr>\n",
       "  </thead>\n",
       "  <tbody>\n",
       "    <tr>\n",
       "      <th>2</th>\n",
       "      <td>longitude</td>\n",
       "      <td>0.112306</td>\n",
       "    </tr>\n",
       "    <tr>\n",
       "      <th>3</th>\n",
       "      <td>latitude</td>\n",
       "      <td>0.111667</td>\n",
       "    </tr>\n",
       "    <tr>\n",
       "      <th>4</th>\n",
       "      <td>gps_height</td>\n",
       "      <td>0.076041</td>\n",
       "    </tr>\n",
       "    <tr>\n",
       "      <th>210</th>\n",
       "      <td>quantity_dry</td>\n",
       "      <td>0.071109</td>\n",
       "    </tr>\n",
       "    <tr>\n",
       "      <th>10</th>\n",
       "      <td>time_difference</td>\n",
       "      <td>0.059078</td>\n",
       "    </tr>\n",
       "    <tr>\n",
       "      <th>5</th>\n",
       "      <td>construction_year</td>\n",
       "      <td>0.048214</td>\n",
       "    </tr>\n",
       "    <tr>\n",
       "      <th>0</th>\n",
       "      <td>population</td>\n",
       "      <td>0.043566</td>\n",
       "    </tr>\n",
       "    <tr>\n",
       "      <th>211</th>\n",
       "      <td>quantity_enough</td>\n",
       "      <td>0.026690</td>\n",
       "    </tr>\n",
       "    <tr>\n",
       "      <th>188</th>\n",
       "      <td>extraction_type_class_other</td>\n",
       "      <td>0.020945</td>\n",
       "    </tr>\n",
       "    <tr>\n",
       "      <th>234</th>\n",
       "      <td>waterpoint_type_other</td>\n",
       "      <td>0.020916</td>\n",
       "    </tr>\n",
       "    <tr>\n",
       "      <th>1</th>\n",
       "      <td>amount_tsh</td>\n",
       "      <td>0.019749</td>\n",
       "    </tr>\n",
       "    <tr>\n",
       "      <th>177</th>\n",
       "      <td>extraction_type_group_other</td>\n",
       "      <td>0.015406</td>\n",
       "    </tr>\n",
       "    <tr>\n",
       "      <th>212</th>\n",
       "      <td>quantity_insufficient</td>\n",
       "      <td>0.013321</td>\n",
       "    </tr>\n",
       "    <tr>\n",
       "      <th>195</th>\n",
       "      <td>payment_type_never pay</td>\n",
       "      <td>0.012026</td>\n",
       "    </tr>\n",
       "    <tr>\n",
       "      <th>254</th>\n",
       "      <td>amount_tsh_0</td>\n",
       "      <td>0.010893</td>\n",
       "    </tr>\n",
       "    <tr>\n",
       "      <th>229</th>\n",
       "      <td>waterpoint_type_communal standpipe</td>\n",
       "      <td>0.010765</td>\n",
       "    </tr>\n",
       "    <tr>\n",
       "      <th>9</th>\n",
       "      <td>installer_other</td>\n",
       "      <td>0.008125</td>\n",
       "    </tr>\n",
       "    <tr>\n",
       "      <th>230</th>\n",
       "      <td>waterpoint_type_communal standpipe multiple</td>\n",
       "      <td>0.008078</td>\n",
       "    </tr>\n",
       "    <tr>\n",
       "      <th>6</th>\n",
       "      <td>installer_dwe</td>\n",
       "      <td>0.007191</td>\n",
       "    </tr>\n",
       "    <tr>\n",
       "      <th>186</th>\n",
       "      <td>extraction_type_class_handpump</td>\n",
       "      <td>0.006983</td>\n",
       "    </tr>\n",
       "    <tr>\n",
       "      <th>207</th>\n",
       "      <td>water_quality_soft</td>\n",
       "      <td>0.006287</td>\n",
       "    </tr>\n",
       "    <tr>\n",
       "      <th>237</th>\n",
       "      <td>permit_True</td>\n",
       "      <td>0.006204</td>\n",
       "    </tr>\n",
       "    <tr>\n",
       "      <th>236</th>\n",
       "      <td>permit_False</td>\n",
       "      <td>0.006201</td>\n",
       "    </tr>\n",
       "    <tr>\n",
       "      <th>198</th>\n",
       "      <td>payment_type_per bucket</td>\n",
       "      <td>0.006122</td>\n",
       "    </tr>\n",
       "    <tr>\n",
       "      <th>176</th>\n",
       "      <td>extraction_type_group_nira/tanira</td>\n",
       "      <td>0.006028</td>\n",
       "    </tr>\n",
       "    <tr>\n",
       "      <th>213</th>\n",
       "      <td>quantity_seasonal</td>\n",
       "      <td>0.005831</td>\n",
       "    </tr>\n",
       "    <tr>\n",
       "      <th>185</th>\n",
       "      <td>extraction_type_class_gravity</td>\n",
       "      <td>0.005826</td>\n",
       "    </tr>\n",
       "    <tr>\n",
       "      <th>222</th>\n",
       "      <td>source_type_spring</td>\n",
       "      <td>0.005823</td>\n",
       "    </tr>\n",
       "    <tr>\n",
       "      <th>232</th>\n",
       "      <td>waterpoint_type_hand pump</td>\n",
       "      <td>0.005820</td>\n",
       "    </tr>\n",
       "    <tr>\n",
       "      <th>244</th>\n",
       "      <td>month_3</td>\n",
       "      <td>0.005626</td>\n",
       "    </tr>\n",
       "  </tbody>\n",
       "</table>\n",
       "</div>"
      ],
      "text/plain": [
       "                                         Feature  Importance\n",
       "2                                      longitude    0.112306\n",
       "3                                       latitude    0.111667\n",
       "4                                     gps_height    0.076041\n",
       "210                                 quantity_dry    0.071109\n",
       "10                               time_difference    0.059078\n",
       "5                              construction_year    0.048214\n",
       "0                                     population    0.043566\n",
       "211                              quantity_enough    0.026690\n",
       "188                  extraction_type_class_other    0.020945\n",
       "234                        waterpoint_type_other    0.020916\n",
       "1                                     amount_tsh    0.019749\n",
       "177                  extraction_type_group_other    0.015406\n",
       "212                        quantity_insufficient    0.013321\n",
       "195                       payment_type_never pay    0.012026\n",
       "254                                 amount_tsh_0    0.010893\n",
       "229           waterpoint_type_communal standpipe    0.010765\n",
       "9                                installer_other    0.008125\n",
       "230  waterpoint_type_communal standpipe multiple    0.008078\n",
       "6                                  installer_dwe    0.007191\n",
       "186               extraction_type_class_handpump    0.006983\n",
       "207                           water_quality_soft    0.006287\n",
       "237                                  permit_True    0.006204\n",
       "236                                 permit_False    0.006201\n",
       "198                      payment_type_per bucket    0.006122\n",
       "176            extraction_type_group_nira/tanira    0.006028\n",
       "213                            quantity_seasonal    0.005831\n",
       "185                extraction_type_class_gravity    0.005826\n",
       "222                           source_type_spring    0.005823\n",
       "232                    waterpoint_type_hand pump    0.005820\n",
       "244                                      month_3    0.005626"
      ]
     },
     "execution_count": 105,
     "metadata": {},
     "output_type": "execute_result"
    }
   ],
   "source": [
    "importance = pd.DataFrame(modelrf.feature_importances_, columns=['Importance'])\n",
    "feature = pd.DataFrame(x_train.columns, columns=['Feature'])\n",
    "print(\"Number of features: \", feature.shape[0])\n",
    "fi = feature.join(importance.ix[:,])\n",
    "fi = fi.sort(['Importance'], ascending=False)\n",
    "fi.head(30)"
   ]
  },
  {
   "cell_type": "code",
   "execution_count": null,
   "metadata": {
    "collapsed": true
   },
   "outputs": [],
   "source": []
  }
 ],
 "metadata": {
  "anaconda-cloud": {},
  "kernelspec": {
   "display_name": "Python [python35]",
   "language": "python",
   "name": "Python [python35]"
  },
  "language_info": {
   "codemirror_mode": {
    "name": "ipython",
    "version": 3
   },
   "file_extension": ".py",
   "mimetype": "text/x-python",
   "name": "python",
   "nbconvert_exporter": "python",
   "pygments_lexer": "ipython3",
   "version": "3.5.2"
  }
 },
 "nbformat": 4,
 "nbformat_minor": 0
}
