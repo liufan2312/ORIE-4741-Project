{
 "cells": [
  {
   "cell_type": "code",
   "execution_count": 1,
   "metadata": {
    "collapsed": true
   },
   "outputs": [],
   "source": [
    "import numpy as np\n",
    "import pandas as pd\n",
    "import matplotlib.pyplot as plt\n",
    "%matplotlib inline"
   ]
  },
  {
   "cell_type": "code",
   "execution_count": 2,
   "metadata": {
    "collapsed": false
   },
   "outputs": [
    {
     "name": "stdout",
     "output_type": "stream",
     "text": [
      "(59400, 41)\n"
     ]
    },
    {
     "data": {
      "text/html": [
       "<div>\n",
       "<table border=\"1\" class=\"dataframe\">\n",
       "  <thead>\n",
       "    <tr style=\"text-align: right;\">\n",
       "      <th></th>\n",
       "      <th>id</th>\n",
       "      <th>amount_tsh</th>\n",
       "      <th>date_recorded</th>\n",
       "      <th>funder</th>\n",
       "      <th>gps_height</th>\n",
       "      <th>installer</th>\n",
       "      <th>longitude</th>\n",
       "      <th>latitude</th>\n",
       "      <th>wpt_name</th>\n",
       "      <th>num_private</th>\n",
       "      <th>...</th>\n",
       "      <th>water_quality</th>\n",
       "      <th>quality_group</th>\n",
       "      <th>quantity</th>\n",
       "      <th>quantity_group</th>\n",
       "      <th>source</th>\n",
       "      <th>source_type</th>\n",
       "      <th>source_class</th>\n",
       "      <th>waterpoint_type</th>\n",
       "      <th>waterpoint_type_group</th>\n",
       "      <th>status_group</th>\n",
       "    </tr>\n",
       "  </thead>\n",
       "  <tbody>\n",
       "    <tr>\n",
       "      <th>0</th>\n",
       "      <td>69572</td>\n",
       "      <td>6000.0</td>\n",
       "      <td>3/14/11</td>\n",
       "      <td>Roman</td>\n",
       "      <td>1390</td>\n",
       "      <td>Roman</td>\n",
       "      <td>34.938093</td>\n",
       "      <td>-9.856322</td>\n",
       "      <td>none</td>\n",
       "      <td>0</td>\n",
       "      <td>...</td>\n",
       "      <td>soft</td>\n",
       "      <td>good</td>\n",
       "      <td>enough</td>\n",
       "      <td>enough</td>\n",
       "      <td>spring</td>\n",
       "      <td>spring</td>\n",
       "      <td>groundwater</td>\n",
       "      <td>communal standpipe</td>\n",
       "      <td>communal standpipe</td>\n",
       "      <td>functional</td>\n",
       "    </tr>\n",
       "    <tr>\n",
       "      <th>1</th>\n",
       "      <td>8776</td>\n",
       "      <td>0.0</td>\n",
       "      <td>3/6/13</td>\n",
       "      <td>Grumeti</td>\n",
       "      <td>1399</td>\n",
       "      <td>GRUMETI</td>\n",
       "      <td>34.698766</td>\n",
       "      <td>-2.147466</td>\n",
       "      <td>Zahanati</td>\n",
       "      <td>0</td>\n",
       "      <td>...</td>\n",
       "      <td>soft</td>\n",
       "      <td>good</td>\n",
       "      <td>insufficient</td>\n",
       "      <td>insufficient</td>\n",
       "      <td>rainwater harvesting</td>\n",
       "      <td>rainwater harvesting</td>\n",
       "      <td>surface</td>\n",
       "      <td>communal standpipe</td>\n",
       "      <td>communal standpipe</td>\n",
       "      <td>functional</td>\n",
       "    </tr>\n",
       "    <tr>\n",
       "      <th>2</th>\n",
       "      <td>34310</td>\n",
       "      <td>25.0</td>\n",
       "      <td>2/25/13</td>\n",
       "      <td>Lottery Club</td>\n",
       "      <td>686</td>\n",
       "      <td>World vision</td>\n",
       "      <td>37.460664</td>\n",
       "      <td>-3.821329</td>\n",
       "      <td>Kwa Mahundi</td>\n",
       "      <td>0</td>\n",
       "      <td>...</td>\n",
       "      <td>soft</td>\n",
       "      <td>good</td>\n",
       "      <td>enough</td>\n",
       "      <td>enough</td>\n",
       "      <td>dam</td>\n",
       "      <td>dam</td>\n",
       "      <td>surface</td>\n",
       "      <td>communal standpipe multiple</td>\n",
       "      <td>communal standpipe</td>\n",
       "      <td>functional</td>\n",
       "    </tr>\n",
       "    <tr>\n",
       "      <th>3</th>\n",
       "      <td>67743</td>\n",
       "      <td>0.0</td>\n",
       "      <td>1/28/13</td>\n",
       "      <td>Unicef</td>\n",
       "      <td>263</td>\n",
       "      <td>UNICEF</td>\n",
       "      <td>38.486161</td>\n",
       "      <td>-11.155298</td>\n",
       "      <td>Zahanati Ya Nanyumbu</td>\n",
       "      <td>0</td>\n",
       "      <td>...</td>\n",
       "      <td>soft</td>\n",
       "      <td>good</td>\n",
       "      <td>dry</td>\n",
       "      <td>dry</td>\n",
       "      <td>machine dbh</td>\n",
       "      <td>borehole</td>\n",
       "      <td>groundwater</td>\n",
       "      <td>communal standpipe multiple</td>\n",
       "      <td>communal standpipe</td>\n",
       "      <td>non functional</td>\n",
       "    </tr>\n",
       "    <tr>\n",
       "      <th>4</th>\n",
       "      <td>19728</td>\n",
       "      <td>0.0</td>\n",
       "      <td>7/13/11</td>\n",
       "      <td>Action In A</td>\n",
       "      <td>0</td>\n",
       "      <td>Artisan</td>\n",
       "      <td>31.130847</td>\n",
       "      <td>-1.825359</td>\n",
       "      <td>Shuleni</td>\n",
       "      <td>0</td>\n",
       "      <td>...</td>\n",
       "      <td>soft</td>\n",
       "      <td>good</td>\n",
       "      <td>seasonal</td>\n",
       "      <td>seasonal</td>\n",
       "      <td>rainwater harvesting</td>\n",
       "      <td>rainwater harvesting</td>\n",
       "      <td>surface</td>\n",
       "      <td>communal standpipe</td>\n",
       "      <td>communal standpipe</td>\n",
       "      <td>functional</td>\n",
       "    </tr>\n",
       "  </tbody>\n",
       "</table>\n",
       "<p>5 rows × 41 columns</p>\n",
       "</div>"
      ],
      "text/plain": [
       "      id  amount_tsh date_recorded        funder  gps_height     installer  \\\n",
       "0  69572      6000.0       3/14/11         Roman        1390         Roman   \n",
       "1   8776         0.0        3/6/13       Grumeti        1399       GRUMETI   \n",
       "2  34310        25.0       2/25/13  Lottery Club         686  World vision   \n",
       "3  67743         0.0       1/28/13        Unicef         263        UNICEF   \n",
       "4  19728         0.0       7/13/11   Action In A           0       Artisan   \n",
       "\n",
       "   longitude   latitude              wpt_name  num_private       ...        \\\n",
       "0  34.938093  -9.856322                  none            0       ...         \n",
       "1  34.698766  -2.147466              Zahanati            0       ...         \n",
       "2  37.460664  -3.821329           Kwa Mahundi            0       ...         \n",
       "3  38.486161 -11.155298  Zahanati Ya Nanyumbu            0       ...         \n",
       "4  31.130847  -1.825359               Shuleni            0       ...         \n",
       "\n",
       "  water_quality quality_group      quantity  quantity_group  \\\n",
       "0          soft          good        enough          enough   \n",
       "1          soft          good  insufficient    insufficient   \n",
       "2          soft          good        enough          enough   \n",
       "3          soft          good           dry             dry   \n",
       "4          soft          good      seasonal        seasonal   \n",
       "\n",
       "                 source           source_type source_class  \\\n",
       "0                spring                spring  groundwater   \n",
       "1  rainwater harvesting  rainwater harvesting      surface   \n",
       "2                   dam                   dam      surface   \n",
       "3           machine dbh              borehole  groundwater   \n",
       "4  rainwater harvesting  rainwater harvesting      surface   \n",
       "\n",
       "               waterpoint_type waterpoint_type_group    status_group  \n",
       "0           communal standpipe    communal standpipe      functional  \n",
       "1           communal standpipe    communal standpipe      functional  \n",
       "2  communal standpipe multiple    communal standpipe      functional  \n",
       "3  communal standpipe multiple    communal standpipe  non functional  \n",
       "4           communal standpipe    communal standpipe      functional  \n",
       "\n",
       "[5 rows x 41 columns]"
      ]
     },
     "execution_count": 2,
     "metadata": {},
     "output_type": "execute_result"
    }
   ],
   "source": [
    "training_set = pd.read_csv(\"Training Set.csv\")\n",
    "training_label = pd.read_csv(\"Training Set Labels.csv\")\n",
    "all_data = pd.merge(training_set, training_label, how=\"left\", on=\"id\")\n",
    "print(all_data.shape)\n",
    "all_data.head()"
   ]
  },
  {
   "cell_type": "markdown",
   "metadata": {},
   "source": [
    "# Cleansing"
   ]
  },
  {
   "cell_type": "markdown",
   "metadata": {},
   "source": [
    "## Drop columns"
   ]
  },
  {
   "cell_type": "code",
   "execution_count": 3,
   "metadata": {
    "collapsed": false
   },
   "outputs": [
    {
     "name": "stdout",
     "output_type": "stream",
     "text": [
      "(59400, 29)\n"
     ]
    },
    {
     "data": {
      "text/html": [
       "<div>\n",
       "<table border=\"1\" class=\"dataframe\">\n",
       "  <thead>\n",
       "    <tr style=\"text-align: right;\">\n",
       "      <th></th>\n",
       "      <th>amount_tsh</th>\n",
       "      <th>date_recorded</th>\n",
       "      <th>funder</th>\n",
       "      <th>gps_height</th>\n",
       "      <th>installer</th>\n",
       "      <th>longitude</th>\n",
       "      <th>latitude</th>\n",
       "      <th>basin</th>\n",
       "      <th>subvillage</th>\n",
       "      <th>region</th>\n",
       "      <th>...</th>\n",
       "      <th>extraction_type_group</th>\n",
       "      <th>extraction_type_class</th>\n",
       "      <th>management</th>\n",
       "      <th>payment_type</th>\n",
       "      <th>water_quality</th>\n",
       "      <th>quantity</th>\n",
       "      <th>source_type</th>\n",
       "      <th>source_class</th>\n",
       "      <th>waterpoint_type</th>\n",
       "      <th>status_group</th>\n",
       "    </tr>\n",
       "  </thead>\n",
       "  <tbody>\n",
       "    <tr>\n",
       "      <th>0</th>\n",
       "      <td>6000.0</td>\n",
       "      <td>3/14/11</td>\n",
       "      <td>Roman</td>\n",
       "      <td>1390</td>\n",
       "      <td>Roman</td>\n",
       "      <td>34.938093</td>\n",
       "      <td>-9.856322</td>\n",
       "      <td>Lake Nyasa</td>\n",
       "      <td>Mnyusi B</td>\n",
       "      <td>Iringa</td>\n",
       "      <td>...</td>\n",
       "      <td>gravity</td>\n",
       "      <td>gravity</td>\n",
       "      <td>vwc</td>\n",
       "      <td>annually</td>\n",
       "      <td>soft</td>\n",
       "      <td>enough</td>\n",
       "      <td>spring</td>\n",
       "      <td>groundwater</td>\n",
       "      <td>communal standpipe</td>\n",
       "      <td>functional</td>\n",
       "    </tr>\n",
       "    <tr>\n",
       "      <th>1</th>\n",
       "      <td>0.0</td>\n",
       "      <td>3/6/13</td>\n",
       "      <td>Grumeti</td>\n",
       "      <td>1399</td>\n",
       "      <td>GRUMETI</td>\n",
       "      <td>34.698766</td>\n",
       "      <td>-2.147466</td>\n",
       "      <td>Lake Victoria</td>\n",
       "      <td>Nyamara</td>\n",
       "      <td>Mara</td>\n",
       "      <td>...</td>\n",
       "      <td>gravity</td>\n",
       "      <td>gravity</td>\n",
       "      <td>wug</td>\n",
       "      <td>never pay</td>\n",
       "      <td>soft</td>\n",
       "      <td>insufficient</td>\n",
       "      <td>rainwater harvesting</td>\n",
       "      <td>surface</td>\n",
       "      <td>communal standpipe</td>\n",
       "      <td>functional</td>\n",
       "    </tr>\n",
       "    <tr>\n",
       "      <th>2</th>\n",
       "      <td>25.0</td>\n",
       "      <td>2/25/13</td>\n",
       "      <td>Lottery Club</td>\n",
       "      <td>686</td>\n",
       "      <td>World vision</td>\n",
       "      <td>37.460664</td>\n",
       "      <td>-3.821329</td>\n",
       "      <td>Pangani</td>\n",
       "      <td>Majengo</td>\n",
       "      <td>Manyara</td>\n",
       "      <td>...</td>\n",
       "      <td>gravity</td>\n",
       "      <td>gravity</td>\n",
       "      <td>vwc</td>\n",
       "      <td>per bucket</td>\n",
       "      <td>soft</td>\n",
       "      <td>enough</td>\n",
       "      <td>dam</td>\n",
       "      <td>surface</td>\n",
       "      <td>communal standpipe multiple</td>\n",
       "      <td>functional</td>\n",
       "    </tr>\n",
       "    <tr>\n",
       "      <th>3</th>\n",
       "      <td>0.0</td>\n",
       "      <td>1/28/13</td>\n",
       "      <td>Unicef</td>\n",
       "      <td>263</td>\n",
       "      <td>UNICEF</td>\n",
       "      <td>38.486161</td>\n",
       "      <td>-11.155298</td>\n",
       "      <td>Ruvuma / Southern Coast</td>\n",
       "      <td>Mahakamani</td>\n",
       "      <td>Mtwara</td>\n",
       "      <td>...</td>\n",
       "      <td>submersible</td>\n",
       "      <td>submersible</td>\n",
       "      <td>vwc</td>\n",
       "      <td>never pay</td>\n",
       "      <td>soft</td>\n",
       "      <td>dry</td>\n",
       "      <td>borehole</td>\n",
       "      <td>groundwater</td>\n",
       "      <td>communal standpipe multiple</td>\n",
       "      <td>non functional</td>\n",
       "    </tr>\n",
       "    <tr>\n",
       "      <th>4</th>\n",
       "      <td>0.0</td>\n",
       "      <td>7/13/11</td>\n",
       "      <td>Action In A</td>\n",
       "      <td>0</td>\n",
       "      <td>Artisan</td>\n",
       "      <td>31.130847</td>\n",
       "      <td>-1.825359</td>\n",
       "      <td>Lake Victoria</td>\n",
       "      <td>Kyanyamisa</td>\n",
       "      <td>Kagera</td>\n",
       "      <td>...</td>\n",
       "      <td>gravity</td>\n",
       "      <td>gravity</td>\n",
       "      <td>other</td>\n",
       "      <td>never pay</td>\n",
       "      <td>soft</td>\n",
       "      <td>seasonal</td>\n",
       "      <td>rainwater harvesting</td>\n",
       "      <td>surface</td>\n",
       "      <td>communal standpipe</td>\n",
       "      <td>functional</td>\n",
       "    </tr>\n",
       "  </tbody>\n",
       "</table>\n",
       "<p>5 rows × 29 columns</p>\n",
       "</div>"
      ],
      "text/plain": [
       "   amount_tsh date_recorded        funder  gps_height     installer  \\\n",
       "0      6000.0       3/14/11         Roman        1390         Roman   \n",
       "1         0.0        3/6/13       Grumeti        1399       GRUMETI   \n",
       "2        25.0       2/25/13  Lottery Club         686  World vision   \n",
       "3         0.0       1/28/13        Unicef         263        UNICEF   \n",
       "4         0.0       7/13/11   Action In A           0       Artisan   \n",
       "\n",
       "   longitude   latitude                    basin  subvillage   region  \\\n",
       "0  34.938093  -9.856322               Lake Nyasa    Mnyusi B   Iringa   \n",
       "1  34.698766  -2.147466            Lake Victoria     Nyamara     Mara   \n",
       "2  37.460664  -3.821329                  Pangani     Majengo  Manyara   \n",
       "3  38.486161 -11.155298  Ruvuma / Southern Coast  Mahakamani   Mtwara   \n",
       "4  31.130847  -1.825359            Lake Victoria  Kyanyamisa   Kagera   \n",
       "\n",
       "        ...        extraction_type_group  extraction_type_class management  \\\n",
       "0       ...                      gravity                gravity        vwc   \n",
       "1       ...                      gravity                gravity        wug   \n",
       "2       ...                      gravity                gravity        vwc   \n",
       "3       ...                  submersible            submersible        vwc   \n",
       "4       ...                      gravity                gravity      other   \n",
       "\n",
       "  payment_type  water_quality      quantity           source_type  \\\n",
       "0     annually           soft        enough                spring   \n",
       "1    never pay           soft  insufficient  rainwater harvesting   \n",
       "2   per bucket           soft        enough                   dam   \n",
       "3    never pay           soft           dry              borehole   \n",
       "4    never pay           soft      seasonal  rainwater harvesting   \n",
       "\n",
       "  source_class              waterpoint_type    status_group  \n",
       "0  groundwater           communal standpipe      functional  \n",
       "1      surface           communal standpipe      functional  \n",
       "2      surface  communal standpipe multiple      functional  \n",
       "3  groundwater  communal standpipe multiple  non functional  \n",
       "4      surface           communal standpipe      functional  \n",
       "\n",
       "[5 rows x 29 columns]"
      ]
     },
     "execution_count": 3,
     "metadata": {},
     "output_type": "execute_result"
    }
   ],
   "source": [
    "feature_list = ['amount_tsh', 'date_recorded', 'funder', 'gps_height', 'installer', 'longitude', 'latitude', 'basin',\n",
    " 'subvillage', 'region', 'region_code', 'district_code', 'lga', 'ward', 'population', 'public_meeting', 'scheme_management',\n",
    " 'permit', 'construction_year', 'extraction_type_group', 'extraction_type_class', 'management', 'payment_type', 'water_quality',\n",
    " 'quantity', 'source_type', 'source_class', 'waterpoint_type', 'status_group']\n",
    "\n",
    "all_data = all_data[feature_list]\n",
    "print(all_data.shape)\n",
    "all_data.head()"
   ]
  },
  {
   "cell_type": "code",
   "execution_count": 9,
   "metadata": {
    "collapsed": false
   },
   "outputs": [
    {
     "data": {
      "text/plain": [
       "status_group\n",
       "functional                 31389\n",
       "functional needs repair     3931\n",
       "non functional             22268\n",
       "dtype: int64"
      ]
     },
     "execution_count": 9,
     "metadata": {},
     "output_type": "execute_result"
    }
   ],
   "source": [
    "clean_data.groupby(\"status_group\").size()"
   ]
  },
  {
   "cell_type": "markdown",
   "metadata": {},
   "source": [
    "## Check each column"
   ]
  },
  {
   "cell_type": "markdown",
   "metadata": {},
   "source": [
    "### \"longitude\""
   ]
  },
  {
   "cell_type": "code",
   "execution_count": 5,
   "metadata": {
    "collapsed": false
   },
   "outputs": [
    {
     "name": "stdout",
     "output_type": "stream",
     "text": [
      "count    59400.000000\n",
      "mean        34.077427\n",
      "std          6.567432\n",
      "min          0.000000\n",
      "25%         33.090347\n",
      "50%         34.908743\n",
      "75%         37.178387\n",
      "max         40.345193\n",
      "Name: longitude, dtype: float64\n",
      "Number of empty cells:  0\n"
     ]
    }
   ],
   "source": [
    "print(all_data[\"longitude\"].describe())\n",
    "print(\"Number of empty cells: \", all_data[\"longitude\"].isnull().sum())"
   ]
  },
  {
   "cell_type": "code",
   "execution_count": 6,
   "metadata": {
    "collapsed": false
   },
   "outputs": [
    {
     "data": {
      "image/png": "[encoded data removed]",
      "text/plain": [
       "<matplotlib.figure.Figure at 0x115f26ef0>"
      ]
     },
     "metadata": {},
     "output_type": "display_data"
    }
   ],
   "source": [
    "plt.hist(all_data[\"longitude\"], 50)\n",
    "plt.show()"
   ]
  },
  {
   "cell_type": "code",
   "execution_count": 7,
   "metadata": {
    "collapsed": false
   },
   "outputs": [
    {
     "data": {
      "text/html": [
       "<div>\n",
       "<table border=\"1\" class=\"dataframe\">\n",
       "  <thead>\n",
       "    <tr style=\"text-align: right;\">\n",
       "      <th></th>\n",
       "      <th>amount_tsh</th>\n",
       "      <th>gps_height</th>\n",
       "      <th>longitude</th>\n",
       "      <th>latitude</th>\n",
       "      <th>region_code</th>\n",
       "      <th>district_code</th>\n",
       "      <th>population</th>\n",
       "      <th>construction_year</th>\n",
       "    </tr>\n",
       "  </thead>\n",
       "  <tbody>\n",
       "    <tr>\n",
       "      <th>count</th>\n",
       "      <td>1812.0</td>\n",
       "      <td>1812.0</td>\n",
       "      <td>1812.0</td>\n",
       "      <td>1.812000e+03</td>\n",
       "      <td>1812.000000</td>\n",
       "      <td>1812.000000</td>\n",
       "      <td>1812.0</td>\n",
       "      <td>1812.0</td>\n",
       "    </tr>\n",
       "    <tr>\n",
       "      <th>mean</th>\n",
       "      <td>0.0</td>\n",
       "      <td>0.0</td>\n",
       "      <td>0.0</td>\n",
       "      <td>-2.000000e-08</td>\n",
       "      <td>17.820088</td>\n",
       "      <td>2.497241</td>\n",
       "      <td>0.0</td>\n",
       "      <td>0.0</td>\n",
       "    </tr>\n",
       "    <tr>\n",
       "      <th>std</th>\n",
       "      <td>0.0</td>\n",
       "      <td>0.0</td>\n",
       "      <td>0.0</td>\n",
       "      <td>3.541310e-22</td>\n",
       "      <td>1.023562</td>\n",
       "      <td>2.157389</td>\n",
       "      <td>0.0</td>\n",
       "      <td>0.0</td>\n",
       "    </tr>\n",
       "    <tr>\n",
       "      <th>min</th>\n",
       "      <td>0.0</td>\n",
       "      <td>0.0</td>\n",
       "      <td>0.0</td>\n",
       "      <td>-2.000000e-08</td>\n",
       "      <td>11.000000</td>\n",
       "      <td>1.000000</td>\n",
       "      <td>0.0</td>\n",
       "      <td>0.0</td>\n",
       "    </tr>\n",
       "    <tr>\n",
       "      <th>25%</th>\n",
       "      <td>0.0</td>\n",
       "      <td>0.0</td>\n",
       "      <td>0.0</td>\n",
       "      <td>-2.000000e-08</td>\n",
       "      <td>17.000000</td>\n",
       "      <td>1.000000</td>\n",
       "      <td>0.0</td>\n",
       "      <td>0.0</td>\n",
       "    </tr>\n",
       "    <tr>\n",
       "      <th>50%</th>\n",
       "      <td>0.0</td>\n",
       "      <td>0.0</td>\n",
       "      <td>0.0</td>\n",
       "      <td>-2.000000e-08</td>\n",
       "      <td>17.000000</td>\n",
       "      <td>1.000000</td>\n",
       "      <td>0.0</td>\n",
       "      <td>0.0</td>\n",
       "    </tr>\n",
       "    <tr>\n",
       "      <th>75%</th>\n",
       "      <td>0.0</td>\n",
       "      <td>0.0</td>\n",
       "      <td>0.0</td>\n",
       "      <td>-2.000000e-08</td>\n",
       "      <td>19.000000</td>\n",
       "      <td>6.000000</td>\n",
       "      <td>0.0</td>\n",
       "      <td>0.0</td>\n",
       "    </tr>\n",
       "    <tr>\n",
       "      <th>max</th>\n",
       "      <td>0.0</td>\n",
       "      <td>0.0</td>\n",
       "      <td>0.0</td>\n",
       "      <td>-2.000000e-08</td>\n",
       "      <td>19.000000</td>\n",
       "      <td>6.000000</td>\n",
       "      <td>0.0</td>\n",
       "      <td>0.0</td>\n",
       "    </tr>\n",
       "  </tbody>\n",
       "</table>\n",
       "</div>"
      ],
      "text/plain": [
       "       amount_tsh  gps_height  longitude      latitude  region_code  \\\n",
       "count      1812.0      1812.0     1812.0  1.812000e+03  1812.000000   \n",
       "mean          0.0         0.0        0.0 -2.000000e-08    17.820088   \n",
       "std           0.0         0.0        0.0  3.541310e-22     1.023562   \n",
       "min           0.0         0.0        0.0 -2.000000e-08    11.000000   \n",
       "25%           0.0         0.0        0.0 -2.000000e-08    17.000000   \n",
       "50%           0.0         0.0        0.0 -2.000000e-08    17.000000   \n",
       "75%           0.0         0.0        0.0 -2.000000e-08    19.000000   \n",
       "max           0.0         0.0        0.0 -2.000000e-08    19.000000   \n",
       "\n",
       "       district_code  population  construction_year  \n",
       "count    1812.000000      1812.0             1812.0  \n",
       "mean        2.497241         0.0                0.0  \n",
       "std         2.157389         0.0                0.0  \n",
       "min         1.000000         0.0                0.0  \n",
       "25%         1.000000         0.0                0.0  \n",
       "50%         1.000000         0.0                0.0  \n",
       "75%         6.000000         0.0                0.0  \n",
       "max         6.000000         0.0                0.0  "
      ]
     },
     "execution_count": 7,
     "metadata": {},
     "output_type": "execute_result"
    }
   ],
   "source": [
    "a = all_data[all_data[\"longitude\"] == 0]\n",
    "a.describe()"
   ]
  },
  {
   "cell_type": "markdown",
   "metadata": {},
   "source": [
    "## **We remove those with longitude = 0. Since construction year and population are all 0s as well**"
   ]
  },
  {
   "cell_type": "code",
   "execution_count": 8,
   "metadata": {
    "collapsed": false
   },
   "outputs": [
    {
     "data": {
      "image/png": "[encoded data removed]",
      "text/plain": [
       "<matplotlib.figure.Figure at 0x1097c5240>"
      ]
     },
     "metadata": {},
     "output_type": "display_data"
    }
   ],
   "source": [
    "clean_data = all_data[all_data[\"longitude\"] > 0]\n",
    "plt.hist(clean_data[\"longitude\"], 50)\n",
    "plt.show()"
   ]
  },
  {
   "cell_type": "markdown",
   "metadata": {},
   "source": [
    "### \"amount_tsh\" - total static head (amount water available to waterpoint)"
   ]
  },
  {
   "cell_type": "code",
   "execution_count": 9,
   "metadata": {
    "collapsed": false
   },
   "outputs": [
    {
     "data": {
      "text/plain": [
       "count     57588.000000\n",
       "mean        327.645219\n",
       "std        3043.831403\n",
       "min           0.000000\n",
       "25%           0.000000\n",
       "50%           0.000000\n",
       "75%          30.000000\n",
       "max      350000.000000\n",
       "Name: amount_tsh, dtype: float64"
      ]
     },
     "execution_count": 9,
     "metadata": {},
     "output_type": "execute_result"
    }
   ],
   "source": [
    "clean_data[\"amount_tsh\"].describe()"
   ]
  },
  {
   "cell_type": "code",
   "execution_count": 9,
   "metadata": {
    "collapsed": false
   },
   "outputs": [
    {
     "data": {
      "image/png": "[encoded data removed]",
      "text/plain": [
       "<matplotlib.figure.Figure at 0x114b2ff28>"
      ]
     },
     "metadata": {},
     "output_type": "display_data"
    },
    {
     "name": "stdout",
     "output_type": "stream",
     "text": [
      "(18, 29)\n"
     ]
    }
   ],
   "source": [
    "plt.hist(clean_data[\"amount_tsh\"], 100)\n",
    "plt.show()\n",
    "print(all_data[all_data[\"amount_tsh\"] > 50000].shape)"
   ]
  },
  {
   "cell_type": "code",
   "execution_count": 19,
   "metadata": {
    "collapsed": false
   },
   "outputs": [
    {
     "data": {
      "text/plain": [
       "count    18626.000000\n",
       "mean        10.593794\n",
       "std        112.886801\n",
       "min          0.000000\n",
       "25%          0.000000\n",
       "50%          0.000000\n",
       "75%          0.000000\n",
       "max       3000.000000\n",
       "Name: amount_tsh, dtype: float64"
      ]
     },
     "execution_count": 19,
     "metadata": {},
     "output_type": "execute_result"
    }
   ],
   "source": [
    "sub = clean_data[clean_data['gps_height'] == 0]\n",
    "sub['amount_tsh'].describe()"
   ]
  },
  {
   "cell_type": "markdown",
   "metadata": {},
   "source": [
    "There is obivous outliers, we should remove those."
   ]
  },
  {
   "cell_type": "markdown",
   "metadata": {},
   "source": [
    "### \"date_recorded\" - the date the row was entered"
   ]
  },
  {
   "cell_type": "code",
   "execution_count": 19,
   "metadata": {
    "collapsed": false,
    "scrolled": true
   },
   "outputs": [
    {
     "name": "stdout",
     "output_type": "stream",
     "text": [
      "count       57588\n",
      "unique        353\n",
      "top       3/15/11\n",
      "freq          572\n",
      "Name: date_recorded, dtype: object\n",
      "Number of empty cells:  0\n"
     ]
    }
   ],
   "source": [
    "print(clean_data[\"date_recorded\"].describe())\n",
    "print(\"Number of empty cells: \", clean_data[\"date_recorded\"].isnull().sum())"
   ]
  },
  {
   "cell_type": "code",
   "execution_count": 12,
   "metadata": {
    "collapsed": false
   },
   "outputs": [
    {
     "name": "stdout",
     "output_type": "stream",
     "text": [
      "2002-10-14 00:00:00\n",
      "2013-12-03 00:00:00\n"
     ]
    }
   ],
   "source": [
    "date_recorded = pd.to_datetime(clean_data[\"date_recorded\"])\n",
    "print(date_recorded.min())\n",
    "print(date_recorded.max())"
   ]
  },
  {
   "cell_type": "markdown",
   "metadata": {},
   "source": [
    "## We will not use date recorded as it is, we will use date recorded - earlier date instead and treat them as continuous random variables."
   ]
  },
  {
   "cell_type": "markdown",
   "metadata": {},
   "source": [
    "### \"funder\" - who funded the well"
   ]
  },
  {
   "cell_type": "code",
   "execution_count": 20,
   "metadata": {
    "collapsed": false
   },
   "outputs": [
    {
     "name": "stdout",
     "output_type": "stream",
     "text": [
      "count                      53966\n",
      "unique                      1858\n",
      "top       Government Of Tanzania\n",
      "freq                        8842\n",
      "Name: funder, dtype: object\n",
      "Number of empty cells:  3622\n"
     ]
    }
   ],
   "source": [
    "print(clean_data[\"funder\"].describe())\n",
    "print(\"Number of empty cells: \", clean_data[\"funder\"].isnull().sum())"
   ]
  },
  {
   "cell_type": "code",
   "execution_count": 37,
   "metadata": {
    "collapsed": false,
    "scrolled": true
   },
   "outputs": [
    {
     "data": {
      "text/plain": [
       "funder\n",
       "Government Of Tanzania          8842\n",
       "Danida                          3114\n",
       "Hesawa                          1914\n",
       "World Bank                      1345\n",
       "Kkkt                            1287\n",
       "World Vision                    1224\n",
       "Rwssp                           1187\n",
       "Unicef                          1035\n",
       "District Council                 843\n",
       "Tasaf                            834\n",
       "Dhv                              829\n",
       "Private Individual               824\n",
       "0                                777\n",
       "Norad                            765\n",
       "Germany Republi                  610\n",
       "Tcrs                             602\n",
       "Ministry Of Water                590\n",
       "Water                            583\n",
       "Dwe                              484\n",
       "Netherlands                      461\n",
       "Hifab                            450\n",
       "Adb                              448\n",
       "Lga                              442\n",
       "Amref                            425\n",
       "Fini Water                       393\n",
       "Oxfam                            359\n",
       "Dwsp                             359\n",
       "Wateraid                         333\n",
       "Rc Church                        321\n",
       "Isf                              316\n",
       "                                ... \n",
       "Shinyanga Shallow Wells            1\n",
       "Magul                              1\n",
       "Magutu Maro                        1\n",
       "Mahemba                            1\n",
       "Majengo Prima                      1\n",
       "Lusajo                             1\n",
       "Shelisheli Commission              1\n",
       "Maju Mugumu                        1\n",
       "Makanga                            1\n",
       "Makanya Sisal Estate               1\n",
       "Makapuchini                        1\n",
       "Makli                              1\n",
       "Shirika La Kinamama Na Watot       1\n",
       "Mafwimbo                           1\n",
       "Maerere                            1\n",
       "Madra                              1\n",
       "Madaraweshi                        1\n",
       "Machibya Guma                      1\n",
       "Shule Ya Msingi                    1\n",
       "Maashumu Mohamed                   1\n",
       "Maajabu Pima                       1\n",
       "Ma                                 1\n",
       "M And P                            1\n",
       "M                                  1\n",
       "Shule Ya Msingi Ufala              1\n",
       "Shule Ya Sekondari Ipuli           1\n",
       "Sido                               1\n",
       "Silinda Yetu                       1\n",
       "Silvester Shilingi                 1\n",
       "Zingibali Secondary                1\n",
       "dtype: int64"
      ]
     },
     "execution_count": 37,
     "metadata": {},
     "output_type": "execute_result"
    }
   ],
   "source": [
    "clean_data.groupby(\"funder\").size().sort_values(ascending=False)"
   ]
  },
  {
   "cell_type": "markdown",
   "metadata": {},
   "source": [
    "### \"gps_height\" - altitude of the well"
   ]
  },
  {
   "cell_type": "code",
   "execution_count": 21,
   "metadata": {
    "collapsed": false
   },
   "outputs": [
    {
     "name": "stdout",
     "output_type": "stream",
     "text": [
      "count    57588.000000\n",
      "mean       689.325137\n",
      "std        693.564188\n",
      "min        -90.000000\n",
      "25%          0.000000\n",
      "50%        426.000000\n",
      "75%       1332.000000\n",
      "max       2770.000000\n",
      "Name: gps_height, dtype: float64\n",
      "Number of empty cells:  0\n"
     ]
    }
   ],
   "source": [
    "print(clean_data[\"gps_height\"].describe())\n",
    "print(\"Number of empty cells: \", clean_data[\"gps_height\"].isnull().sum())"
   ]
  },
  {
   "cell_type": "code",
   "execution_count": 30,
   "metadata": {
    "collapsed": false
   },
   "outputs": [
    {
     "data": {
      "image/png": "[encoded data removed]",
      "text/plain": [
       "<matplotlib.figure.Figure at 0x1163ef2e8>"
      ]
     },
     "metadata": {},
     "output_type": "display_data"
    }
   ],
   "source": [
    "plt.hist(all_data[\"gps_height\"], 100)\n",
    "plt.show()"
   ]
  },
  {
   "cell_type": "markdown",
   "metadata": {},
   "source": [
    "Tanzania's elevation extremes: 0m - 5895m (according to Wikipedia), **does that mean those with gps_height < 0 are wrong?**"
   ]
  },
  {
   "cell_type": "code",
   "execution_count": 13,
   "metadata": {
    "collapsed": false
   },
   "outputs": [
    {
     "data": {
      "text/plain": [
       "status_group\n",
       "functional                 9599\n",
       "functional needs repair    1377\n",
       "non functional             7650\n",
       "dtype: int64"
      ]
     },
     "execution_count": 13,
     "metadata": {},
     "output_type": "execute_result"
    }
   ],
   "source": [
    "clean_data[clean_data[\"gps_height\"] == 0].groupby(\"status_group\").size()"
   ]
  },
  {
   "cell_type": "markdown",
   "metadata": {},
   "source": [
    "### \"installer\" - organization that installed the well"
   ]
  },
  {
   "cell_type": "code",
   "execution_count": 9,
   "metadata": {
    "collapsed": false
   },
   "outputs": [
    {
     "name": "stdout",
     "output_type": "stream",
     "text": [
      "count     53952\n",
      "unique     2113\n",
      "top         DWE\n",
      "freq      16255\n",
      "Name: installer, dtype: object\n",
      "Number of empty cells:  3636\n"
     ]
    }
   ],
   "source": [
    "print(clean_data[\"installer\"].describe())\n",
    "print(\"Number of empty cells: \", clean_data[\"installer\"].isnull().sum())"
   ]
  },
  {
   "cell_type": "code",
   "execution_count": 10,
   "metadata": {
    "collapsed": false
   },
   "outputs": [
    {
     "data": {
      "text/plain": [
       "installer\n",
       "DWE                      16255\n",
       "Government                1670\n",
       "RWE                       1181\n",
       "Commu                     1060\n",
       "DANIDA                    1050\n",
       "KKKT                       897\n",
       "Hesawa                     803\n",
       "0                          777\n",
       "TCRS                       707\n",
       "Central government         619\n",
       "CES                        610\n",
       "DANID                      552\n",
       "District Council           551\n",
       "Community                  539\n",
       "HESAWA                     537\n",
       "LGA                        408\n",
       "World vision               408\n",
       "WEDECO                     397\n",
       "District council           392\n",
       "Gover                      383\n",
       "TASAF                      377\n",
       "AMREF                      329\n",
       "TWESA                      316\n",
       "WU                         301\n",
       "Dmdd                       287\n",
       "ACRA                       278\n",
       "SEMA                       249\n",
       "World Vision               248\n",
       "DW                         246\n",
       "OXFAM                      234\n",
       "                         ...  \n",
       "NGINIL                       1\n",
       "NGO                          1\n",
       "NGO'S                        1\n",
       "NJOONJOO                     1\n",
       "NMDC INDIA                   1\n",
       "NSSF                         1\n",
       "Mwita Machoa                 1\n",
       "Mwananchi Engineeri          1\n",
       "Mrish                        1\n",
       "Mwanamisi Ally               1\n",
       "Msagin                       1\n",
       "Msig                         1\n",
       "Msikitini                    1\n",
       "Msuba                        1\n",
       "Msudi                        1\n",
       "Mtewe                        1\n",
       "Mtwara Technician            1\n",
       "Mu                           1\n",
       "Muhindi                      1\n",
       "Muhochi Kissaka              1\n",
       "Mungaya                      1\n",
       "Municipal Council            1\n",
       "Muslimu Society(Shia)        1\n",
       "Muwaza                       1\n",
       "Mwakabalula                  1\n",
       "Mwalimu  Muhenza             1\n",
       "Mwalimu  Muhenzi             1\n",
       "Mwamama                      1\n",
       "Mwamvita Rajabu              1\n",
       "Mahita                       1\n",
       "dtype: int64"
      ]
     },
     "execution_count": 10,
     "metadata": {},
     "output_type": "execute_result"
    }
   ],
   "source": [
    "clean_data.groupby(\"installer\").size().sort_values(ascending=False)"
   ]
  },
  {
   "cell_type": "markdown",
   "metadata": {},
   "source": [
    "### \"latitude\""
   ]
  },
  {
   "cell_type": "code",
   "execution_count": 38,
   "metadata": {
    "collapsed": false
   },
   "outputs": [
    {
     "name": "stdout",
     "output_type": "stream",
     "text": [
      "count    5.940000e+04\n",
      "mean    -5.706033e+00\n",
      "std      2.946019e+00\n",
      "min     -1.164944e+01\n",
      "25%     -8.540621e+00\n",
      "50%     -5.021597e+00\n",
      "75%     -3.326156e+00\n",
      "max     -2.000000e-08\n",
      "Name: latitude, dtype: float64\n",
      "Number of empty cells:  0\n"
     ]
    }
   ],
   "source": [
    "print(all_data[\"latitude\"].describe())\n",
    "print(\"Number of empty cells: \", all_data[\"latitude\"].isnull().sum())"
   ]
  },
  {
   "cell_type": "code",
   "execution_count": 39,
   "metadata": {
    "collapsed": false
   },
   "outputs": [
    {
     "data": {
      "image/png": "[encoded data removed]",
      "text/plain": [
       "<matplotlib.figure.Figure at 0x11792b3c8>"
      ]
     },
     "metadata": {},
     "output_type": "display_data"
    }
   ],
   "source": [
    "plt.hist(all_data[\"latitude\"], 50)\n",
    "plt.show()"
   ]
  },
  {
   "cell_type": "markdown",
   "metadata": {},
   "source": [
    "### \"basin\" - geographic water basin"
   ]
  },
  {
   "cell_type": "code",
   "execution_count": 40,
   "metadata": {
    "collapsed": false
   },
   "outputs": [
    {
     "name": "stdout",
     "output_type": "stream",
     "text": [
      "count             59400\n",
      "unique                9\n",
      "top       Lake Victoria\n",
      "freq              10248\n",
      "Name: basin, dtype: object\n",
      "Number of empty cells:  0\n"
     ]
    }
   ],
   "source": [
    "print(all_data[\"basin\"].describe())\n",
    "print(\"Number of empty cells: \", all_data[\"basin\"].isnull().sum())"
   ]
  },
  {
   "cell_type": "code",
   "execution_count": 46,
   "metadata": {
    "collapsed": false
   },
   "outputs": [
    {
     "data": {
      "image/png": "[encoded data removed]",
      "text/plain": [
       "<matplotlib.figure.Figure at 0x116052d30>"
      ]
     },
     "metadata": {},
     "output_type": "display_data"
    }
   ],
   "source": [
    "group = all_data.groupby([\"basin\"]).size().sort_values(ascending=False)\n",
    "group_name = group.index.tolist()\n",
    "ind = np.arange(len(group_name))\n",
    "\n",
    "width = 0.5\n",
    "\n",
    "plt.bar(ind, group, width)\n",
    "\n",
    "plt.ylabel(\"Count\")\n",
    "plt.xticks(ind + width/2., group_name)\n",
    "plt.xlim(-0.5, len(group_name))\n",
    "locs, labels = plt.xticks()\n",
    "plt.setp(labels, rotation=90)\n",
    "plt.show()"
   ]
  },
  {
   "cell_type": "markdown",
   "metadata": {},
   "source": [
    "### \"subvillage\" - geographic location"
   ]
  },
  {
   "cell_type": "code",
   "execution_count": 47,
   "metadata": {
    "collapsed": false
   },
   "outputs": [
    {
     "name": "stdout",
     "output_type": "stream",
     "text": [
      "count        59029\n",
      "unique       19287\n",
      "top       Madukani\n",
      "freq           508\n",
      "Name: subvillage, dtype: object\n",
      "Number of empty cells:  371\n"
     ]
    }
   ],
   "source": [
    "print(all_data[\"subvillage\"].describe())\n",
    "print(\"Number of empty cells: \", all_data[\"subvillage\"].isnull().sum())"
   ]
  },
  {
   "cell_type": "markdown",
   "metadata": {},
   "source": [
    "### \"region\" - geographic location"
   ]
  },
  {
   "cell_type": "code",
   "execution_count": 48,
   "metadata": {
    "collapsed": false
   },
   "outputs": [
    {
     "name": "stdout",
     "output_type": "stream",
     "text": [
      "count      59400\n",
      "unique        21\n",
      "top       Iringa\n",
      "freq        5294\n",
      "Name: region, dtype: object\n",
      "Number of empty cells:  0\n"
     ]
    }
   ],
   "source": [
    "print(all_data[\"region\"].describe())\n",
    "print(\"Number of empty cells: \", all_data[\"region\"].isnull().sum())"
   ]
  },
  {
   "cell_type": "code",
   "execution_count": 49,
   "metadata": {
    "collapsed": false
   },
   "outputs": [
    {
     "data": {
      "image/png": "[encoded data removed]",
      "text/plain": [
       "<matplotlib.figure.Figure at 0x1160527f0>"
      ]
     },
     "metadata": {},
     "output_type": "display_data"
    }
   ],
   "source": [
    "group = all_data.groupby([\"region\"]).size().sort_values(ascending=False)\n",
    "group_name = group.index.tolist()\n",
    "ind = np.arange(len(group_name))\n",
    "\n",
    "width = 0.5\n",
    "\n",
    "plt.bar(ind, group, width)\n",
    "\n",
    "plt.ylabel(\"Count\")\n",
    "plt.xticks(ind + width/2., group_name)\n",
    "plt.xlim(-0.5, len(group_name))\n",
    "locs, labels = plt.xticks()\n",
    "plt.setp(labels, rotation=90)\n",
    "plt.show()"
   ]
  },
  {
   "cell_type": "markdown",
   "metadata": {},
   "source": [
    "### \"region_code\" - geographic location (coded)"
   ]
  },
  {
   "cell_type": "code",
   "execution_count": 50,
   "metadata": {
    "collapsed": false
   },
   "outputs": [
    {
     "name": "stdout",
     "output_type": "stream",
     "text": [
      "count    59400.000000\n",
      "mean        15.297003\n",
      "std         17.587406\n",
      "min          1.000000\n",
      "25%          5.000000\n",
      "50%         12.000000\n",
      "75%         17.000000\n",
      "max         99.000000\n",
      "Name: region_code, dtype: float64\n",
      "Number of empty cells:  0\n"
     ]
    }
   ],
   "source": [
    "print(all_data[\"region_code\"].describe())\n",
    "print(\"Number of empty cells: \", all_data[\"region_code\"].isnull().sum())"
   ]
  },
  {
   "cell_type": "markdown",
   "metadata": {},
   "source": [
    "We should treat region code as object."
   ]
  },
  {
   "cell_type": "markdown",
   "metadata": {},
   "source": [
    "### \"lga\" - geographic location"
   ]
  },
  {
   "cell_type": "code",
   "execution_count": 52,
   "metadata": {
    "collapsed": false
   },
   "outputs": [
    {
     "name": "stdout",
     "output_type": "stream",
     "text": [
      "count      59400\n",
      "unique       125\n",
      "top       Njombe\n",
      "freq        2503\n",
      "Name: lga, dtype: object\n",
      "Number of empty cells:  0\n"
     ]
    }
   ],
   "source": [
    "print(all_data[\"lga\"].describe())\n",
    "print(\"Number of empty cells: \", all_data[\"lga\"].isnull().sum())"
   ]
  },
  {
   "cell_type": "markdown",
   "metadata": {},
   "source": [
    "### \"ward\" - geographic location"
   ]
  },
  {
   "cell_type": "code",
   "execution_count": 27,
   "metadata": {
    "collapsed": false
   },
   "outputs": [
    {
     "name": "stdout",
     "output_type": "stream",
     "text": [
      "count     57588\n",
      "unique     2033\n",
      "top       Igosi\n",
      "freq        307\n",
      "Name: ward, dtype: object\n",
      "Number of empty cells:  0\n"
     ]
    }
   ],
   "source": [
    "print(clean_data[\"ward\"].describe())\n",
    "print(\"Number of empty cells: \", clean_data[\"ward\"].isnull().sum())"
   ]
  },
  {
   "cell_type": "markdown",
   "metadata": {},
   "source": [
    "### \"population\" - population around the well"
   ]
  },
  {
   "cell_type": "code",
   "execution_count": 11,
   "metadata": {
    "collapsed": false
   },
   "outputs": [
    {
     "name": "stdout",
     "output_type": "stream",
     "text": [
      "count    59400.000000\n",
      "mean       179.909983\n",
      "std        471.482176\n",
      "min          0.000000\n",
      "25%          0.000000\n",
      "50%         25.000000\n",
      "75%        215.000000\n",
      "max      30500.000000\n",
      "Name: population, dtype: float64\n",
      "Number of empty cells:  0\n"
     ]
    }
   ],
   "source": [
    "print(all_data[\"population\"].describe())\n",
    "print(\"Number of empty cells: \", all_data[\"population\"].isnull().sum())"
   ]
  },
  {
   "cell_type": "code",
   "execution_count": 12,
   "metadata": {
    "collapsed": false
   },
   "outputs": [
    {
     "data": {
      "image/png": "[encoded data removed]",
      "text/plain": [
       "<matplotlib.figure.Figure at 0x116576b70>"
      ]
     },
     "metadata": {},
     "output_type": "display_data"
    }
   ],
   "source": [
    "plt.hist(all_data[\"population\"], 200)\n",
    "plt.show()"
   ]
  },
  {
   "cell_type": "code",
   "execution_count": 24,
   "metadata": {
    "collapsed": false
   },
   "outputs": [
    {
     "data": {
      "text/plain": [
       "status_group\n",
       "functional                 10404\n",
       "functional needs repair     1389\n",
       "non functional              7776\n",
       "dtype: int64"
      ]
     },
     "execution_count": 24,
     "metadata": {},
     "output_type": "execute_result"
    }
   ],
   "source": [
    "clean_data[clean_data[\"population\"] == 0].groupby(\"status_group\").size()"
   ]
  },
  {
   "cell_type": "markdown",
   "metadata": {},
   "source": [
    "We should remove the obvious outliers. And why so many 0 population?!"
   ]
  },
  {
   "cell_type": "markdown",
   "metadata": {},
   "source": [
    "### \"public_meeting\" - True/False"
   ]
  },
  {
   "cell_type": "code",
   "execution_count": 29,
   "metadata": {
    "collapsed": false
   },
   "outputs": [
    {
     "name": "stdout",
     "output_type": "stream",
     "text": [
      "count     54612\n",
      "unique        2\n",
      "top        True\n",
      "freq      49737\n",
      "Name: public_meeting, dtype: object\n",
      "Number of empty cells:  2976\n"
     ]
    }
   ],
   "source": [
    "print(clean_data[\"public_meeting\"].describe())\n",
    "print(\"Number of empty cells: \", clean_data[\"public_meeting\"].isnull().sum())"
   ]
  },
  {
   "cell_type": "code",
   "execution_count": 20,
   "metadata": {
    "collapsed": false
   },
   "outputs": [
    {
     "data": {
      "text/plain": [
       "status_group\n",
       "functional                 2153\n",
       "functional needs repair     355\n",
       "non functional             2367\n",
       "dtype: int64"
      ]
     },
     "execution_count": 20,
     "metadata": {},
     "output_type": "execute_result"
    }
   ],
   "source": [
    "clean_data[clean_data['public_meeting'] == False].groupby('status_group').size()"
   ]
  },
  {
   "cell_type": "markdown",
   "metadata": {},
   "source": [
    "### \"scheme_management\" - who operates the waterpoint"
   ]
  },
  {
   "cell_type": "code",
   "execution_count": 30,
   "metadata": {
    "collapsed": false
   },
   "outputs": [
    {
     "name": "stdout",
     "output_type": "stream",
     "text": [
      "count     53838\n",
      "unique       12\n",
      "top         VWC\n",
      "freq      36143\n",
      "Name: scheme_management, dtype: object\n",
      "Number of empty cells:  3750\n"
     ]
    }
   ],
   "source": [
    "print(clean_data[\"scheme_management\"].describe())\n",
    "print(\"Number of empty cells: \", clean_data[\"scheme_management\"].isnull().sum())"
   ]
  },
  {
   "cell_type": "code",
   "execution_count": 11,
   "metadata": {
    "collapsed": false
   },
   "outputs": [
    {
     "data": {
      "text/plain": [
       "scheme_management\n",
       "VWC                 36143\n",
       "WUG                  4249\n",
       "Water authority      3151\n",
       "WUA                  2882\n",
       "Water Board          2747\n",
       "Parastatal           1607\n",
       "Private operator     1063\n",
       "Company              1061\n",
       "Other                 765\n",
       "SWC                    97\n",
       "Trust                  72\n",
       "None                    1\n",
       "dtype: int64"
      ]
     },
     "execution_count": 11,
     "metadata": {},
     "output_type": "execute_result"
    }
   ],
   "source": [
    "clean_data.groupby(\"scheme_management\").size().sort_values(ascending=False)"
   ]
  },
  {
   "cell_type": "code",
   "execution_count": 18,
   "metadata": {
    "collapsed": false
   },
   "outputs": [
    {
     "data": {
      "text/plain": [
       "status_group\n",
       "functional                 2053\n",
       "functional needs repair     110\n",
       "non functional              584\n",
       "dtype: int64"
      ]
     },
     "execution_count": 18,
     "metadata": {},
     "output_type": "execute_result"
    }
   ],
   "source": [
    "b = clean_data[clean_data[\"scheme_management\"] == \"Water Board\"]\n",
    "b.groupby('status_group').size()"
   ]
  },
  {
   "cell_type": "code",
   "execution_count": 33,
   "metadata": {
    "collapsed": false
   },
   "outputs": [
    {
     "name": "stdout",
     "output_type": "stream",
     "text": [
      "Number of empty cells:  41\n",
      "Number of empty cells:  405\n"
     ]
    }
   ],
   "source": [
    "# Check if the missing values overlap\n",
    "b = clean_data[clean_data[\"scheme_management\"].isnull()]\n",
    "print(\"Number of empty cells: \", b[\"permit\"].isnull().sum())\n",
    "print(\"Number of empty cells: \", b[\"public_meeting\"].isnull().sum())\n",
    "\n",
    "# Nope..."
   ]
  },
  {
   "cell_type": "markdown",
   "metadata": {},
   "source": [
    "### \"permit\" - if the waterpoint is permitted"
   ]
  },
  {
   "cell_type": "code",
   "execution_count": 28,
   "metadata": {
    "collapsed": false
   },
   "outputs": [
    {
     "name": "stdout",
     "output_type": "stream",
     "text": [
      "count     54532\n",
      "unique        2\n",
      "top        True\n",
      "freq      38100\n",
      "Name: permit, dtype: object\n",
      "Number of empty cells:  3056\n"
     ]
    }
   ],
   "source": [
    "print(clean_data[\"permit\"].describe())\n",
    "print(\"Number of empty cells: \", clean_data[\"permit\"].isnull().sum())"
   ]
  },
  {
   "cell_type": "code",
   "execution_count": 23,
   "metadata": {
    "collapsed": false
   },
   "outputs": [
    {
     "data": {
      "text/plain": [
       "status_group\n",
       "functional                 2153\n",
       "functional needs repair     355\n",
       "non functional             2367\n",
       "dtype: int64"
      ]
     },
     "execution_count": 23,
     "metadata": {},
     "output_type": "execute_result"
    }
   ],
   "source": [
    "clean_data[clean_data['public_meeting'] == False].groupby('status_group').size()"
   ]
  },
  {
   "cell_type": "markdown",
   "metadata": {},
   "source": [
    "### \"construction_year\" - year the waterpoint was constructed"
   ]
  },
  {
   "cell_type": "code",
   "execution_count": 23,
   "metadata": {
    "collapsed": false
   },
   "outputs": [
    {
     "name": "stdout",
     "output_type": "stream",
     "text": [
      "count    57588.000000\n",
      "mean      1341.577360\n",
      "std        937.641368\n",
      "min          0.000000\n",
      "25%          0.000000\n",
      "50%       1988.000000\n",
      "75%       2004.000000\n",
      "max       2013.000000\n",
      "Name: construction_year, dtype: float64\n",
      "Number of empty cells:  0\n"
     ]
    }
   ],
   "source": [
    "print(clean_data[\"construction_year\"].describe())\n",
    "print(\"Number of empty cells: \", clean_data[\"construction_year\"].isnull().sum())"
   ]
  },
  {
   "cell_type": "code",
   "execution_count": 16,
   "metadata": {
    "collapsed": false
   },
   "outputs": [
    {
     "data": {
      "text/html": [
       "<div>\n",
       "<table border=\"1\" class=\"dataframe\">\n",
       "  <thead>\n",
       "    <tr style=\"text-align: right;\">\n",
       "      <th></th>\n",
       "      <th>amount_tsh</th>\n",
       "      <th>gps_height</th>\n",
       "      <th>longitude</th>\n",
       "      <th>latitude</th>\n",
       "      <th>region_code</th>\n",
       "      <th>district_code</th>\n",
       "      <th>population</th>\n",
       "      <th>construction_year</th>\n",
       "    </tr>\n",
       "  </thead>\n",
       "  <tbody>\n",
       "    <tr>\n",
       "      <th>count</th>\n",
       "      <td>38691.000000</td>\n",
       "      <td>38691.000000</td>\n",
       "      <td>38691.000000</td>\n",
       "      <td>38691.000000</td>\n",
       "      <td>38691.000000</td>\n",
       "      <td>38691.000000</td>\n",
       "      <td>38691.000000</td>\n",
       "      <td>38691.000000</td>\n",
       "    </tr>\n",
       "    <tr>\n",
       "      <th>mean</th>\n",
       "      <td>466.457534</td>\n",
       "      <td>1002.367760</td>\n",
       "      <td>35.983262</td>\n",
       "      <td>-6.235372</td>\n",
       "      <td>15.706495</td>\n",
       "      <td>5.969786</td>\n",
       "      <td>269.799617</td>\n",
       "      <td>1996.814686</td>\n",
       "    </tr>\n",
       "    <tr>\n",
       "      <th>std</th>\n",
       "      <td>3541.036030</td>\n",
       "      <td>618.078669</td>\n",
       "      <td>2.558709</td>\n",
       "      <td>2.761317</td>\n",
       "      <td>21.003006</td>\n",
       "      <td>10.700673</td>\n",
       "      <td>552.343746</td>\n",
       "      <td>12.472045</td>\n",
       "    </tr>\n",
       "    <tr>\n",
       "      <th>min</th>\n",
       "      <td>0.000000</td>\n",
       "      <td>-63.000000</td>\n",
       "      <td>29.607122</td>\n",
       "      <td>-11.649440</td>\n",
       "      <td>2.000000</td>\n",
       "      <td>1.000000</td>\n",
       "      <td>0.000000</td>\n",
       "      <td>1960.000000</td>\n",
       "    </tr>\n",
       "    <tr>\n",
       "      <th>25%</th>\n",
       "      <td>0.000000</td>\n",
       "      <td>372.000000</td>\n",
       "      <td>34.676719</td>\n",
       "      <td>-8.755274</td>\n",
       "      <td>4.000000</td>\n",
       "      <td>2.000000</td>\n",
       "      <td>30.000000</td>\n",
       "      <td>1987.000000</td>\n",
       "    </tr>\n",
       "    <tr>\n",
       "      <th>50%</th>\n",
       "      <td>0.000000</td>\n",
       "      <td>1154.000000</td>\n",
       "      <td>36.648187</td>\n",
       "      <td>-6.064216</td>\n",
       "      <td>11.000000</td>\n",
       "      <td>3.000000</td>\n",
       "      <td>150.000000</td>\n",
       "      <td>2000.000000</td>\n",
       "    </tr>\n",
       "    <tr>\n",
       "      <th>75%</th>\n",
       "      <td>200.000000</td>\n",
       "      <td>1488.000000</td>\n",
       "      <td>37.803940</td>\n",
       "      <td>-3.650661</td>\n",
       "      <td>16.000000</td>\n",
       "      <td>5.000000</td>\n",
       "      <td>305.000000</td>\n",
       "      <td>2008.000000</td>\n",
       "    </tr>\n",
       "    <tr>\n",
       "      <th>max</th>\n",
       "      <td>350000.000000</td>\n",
       "      <td>2770.000000</td>\n",
       "      <td>40.345193</td>\n",
       "      <td>-1.042375</td>\n",
       "      <td>99.000000</td>\n",
       "      <td>63.000000</td>\n",
       "      <td>30500.000000</td>\n",
       "      <td>2013.000000</td>\n",
       "    </tr>\n",
       "  </tbody>\n",
       "</table>\n",
       "</div>"
      ],
      "text/plain": [
       "          amount_tsh    gps_height     longitude      latitude   region_code  \\\n",
       "count   38691.000000  38691.000000  38691.000000  38691.000000  38691.000000   \n",
       "mean      466.457534   1002.367760     35.983262     -6.235372     15.706495   \n",
       "std      3541.036030    618.078669      2.558709      2.761317     21.003006   \n",
       "min         0.000000    -63.000000     29.607122    -11.649440      2.000000   \n",
       "25%         0.000000    372.000000     34.676719     -8.755274      4.000000   \n",
       "50%         0.000000   1154.000000     36.648187     -6.064216     11.000000   \n",
       "75%       200.000000   1488.000000     37.803940     -3.650661     16.000000   \n",
       "max    350000.000000   2770.000000     40.345193     -1.042375     99.000000   \n",
       "\n",
       "       district_code    population  construction_year  \n",
       "count   38691.000000  38691.000000       38691.000000  \n",
       "mean        5.969786    269.799617        1996.814686  \n",
       "std        10.700673    552.343746          12.472045  \n",
       "min         1.000000      0.000000        1960.000000  \n",
       "25%         2.000000     30.000000        1987.000000  \n",
       "50%         3.000000    150.000000        2000.000000  \n",
       "75%         5.000000    305.000000        2008.000000  \n",
       "max        63.000000  30500.000000        2013.000000  "
      ]
     },
     "execution_count": 16,
     "metadata": {},
     "output_type": "execute_result"
    }
   ],
   "source": [
    "# Check how many different yea\n",
    "clean_data[clean_data[\"construction_year\"] != 0].describe()"
   ]
  },
  {
   "cell_type": "markdown",
   "metadata": {},
   "source": [
    "We should treat this as categorical data"
   ]
  },
  {
   "cell_type": "markdown",
   "metadata": {},
   "source": [
    "### \"extraction_type_group\" - the kind of extraction the waterpoint uses"
   ]
  },
  {
   "cell_type": "code",
   "execution_count": 73,
   "metadata": {
    "collapsed": false
   },
   "outputs": [
    {
     "name": "stdout",
     "output_type": "stream",
     "text": [
      "count       59400\n",
      "unique         13\n",
      "top       gravity\n",
      "freq        26780\n",
      "Name: extraction_type_group, dtype: object\n",
      "Number of empty cells:  0\n"
     ]
    }
   ],
   "source": [
    "print(all_data[\"extraction_type_group\"].describe())\n",
    "print(\"Number of empty cells: \", all_data[\"extraction_type_group\"].isnull().sum())"
   ]
  },
  {
   "cell_type": "markdown",
   "metadata": {},
   "source": [
    "### \"extraction_type_class\" - the kind of extraction the waterpoint uses"
   ]
  },
  {
   "cell_type": "code",
   "execution_count": 74,
   "metadata": {
    "collapsed": false
   },
   "outputs": [
    {
     "name": "stdout",
     "output_type": "stream",
     "text": [
      "count       59400\n",
      "unique          7\n",
      "top       gravity\n",
      "freq        26780\n",
      "Name: extraction_type_class, dtype: object\n",
      "Number of empty cells:  0\n"
     ]
    }
   ],
   "source": [
    "print(all_data[\"extraction_type_class\"].describe())\n",
    "print(\"Number of empty cells: \", all_data[\"extraction_type_class\"].isnull().sum())"
   ]
  },
  {
   "cell_type": "code",
   "execution_count": 75,
   "metadata": {
    "collapsed": false
   },
   "outputs": [
    {
     "data": {
      "image/png": "[encoded data removed]",
      "text/plain": [
       "<matplotlib.figure.Figure at 0x1184897b8>"
      ]
     },
     "metadata": {},
     "output_type": "display_data"
    }
   ],
   "source": [
    "group = all_data.groupby([\"extraction_type_class\"]).size().sort_values(ascending=False)\n",
    "group_name = group.index.tolist()\n",
    "ind = np.arange(len(group_name))\n",
    "\n",
    "width = 0.5\n",
    "\n",
    "plt.bar(ind, group, width)\n",
    "\n",
    "plt.ylabel(\"Count\")\n",
    "plt.xticks(ind + width/2., group_name)\n",
    "plt.xlim(-0.5, len(group_name))\n",
    "locs, labels = plt.xticks()\n",
    "plt.setp(labels, rotation=90)\n",
    "plt.show()"
   ]
  },
  {
   "cell_type": "markdown",
   "metadata": {},
   "source": [
    "### \"management\" - how the waterpoint is managed"
   ]
  },
  {
   "cell_type": "code",
   "execution_count": 76,
   "metadata": {
    "collapsed": false
   },
   "outputs": [
    {
     "name": "stdout",
     "output_type": "stream",
     "text": [
      "count     59400\n",
      "unique       12\n",
      "top         vwc\n",
      "freq      40507\n",
      "Name: management, dtype: object\n",
      "Number of empty cells:  0\n"
     ]
    }
   ],
   "source": [
    "print(all_data[\"management\"].describe())\n",
    "print(\"Number of empty cells: \", all_data[\"management\"].isnull().sum())"
   ]
  },
  {
   "cell_type": "code",
   "execution_count": 77,
   "metadata": {
    "collapsed": false
   },
   "outputs": [
    {
     "data": {
      "image/png": "[encoded data removed]",
      "text/plain": [
       "<matplotlib.figure.Figure at 0x117c76d30>"
      ]
     },
     "metadata": {},
     "output_type": "display_data"
    }
   ],
   "source": [
    "group = all_data.groupby([\"management\"]).size().sort_values(ascending=False)\n",
    "group_name = group.index.tolist()\n",
    "ind = np.arange(len(group_name))\n",
    "\n",
    "width = 0.5\n",
    "\n",
    "plt.bar(ind, group, width)\n",
    "\n",
    "plt.ylabel(\"Count\")\n",
    "plt.xticks(ind + width/2., group_name)\n",
    "plt.xlim(-0.5, len(group_name))\n",
    "locs, labels = plt.xticks()\n",
    "plt.setp(labels, rotation=90)\n",
    "plt.show()"
   ]
  },
  {
   "cell_type": "markdown",
   "metadata": {},
   "source": [
    "We probably need some cleansing for this column as well, combine unknown with other maybe?"
   ]
  },
  {
   "cell_type": "markdown",
   "metadata": {},
   "source": [
    "### \"payment_type\" - what the water costs"
   ]
  },
  {
   "cell_type": "code",
   "execution_count": 78,
   "metadata": {
    "collapsed": false
   },
   "outputs": [
    {
     "name": "stdout",
     "output_type": "stream",
     "text": [
      "count         59400\n",
      "unique            7\n",
      "top       never pay\n",
      "freq          25348\n",
      "Name: payment_type, dtype: object\n",
      "Number of empty cells:  0\n"
     ]
    }
   ],
   "source": [
    "print(all_data[\"payment_type\"].describe())\n",
    "print(\"Number of empty cells: \", all_data[\"payment_type\"].isnull().sum())"
   ]
  },
  {
   "cell_type": "code",
   "execution_count": 79,
   "metadata": {
    "collapsed": false
   },
   "outputs": [
    {
     "data": {
      "image/png": "[encoded data removed]",
      "text/plain": [
       "<matplotlib.figure.Figure at 0x117c8c080>"
      ]
     },
     "metadata": {},
     "output_type": "display_data"
    }
   ],
   "source": [
    "group = all_data.groupby([\"payment_type\"]).size().sort_values(ascending=False)\n",
    "group_name = group.index.tolist()\n",
    "ind = np.arange(len(group_name))\n",
    "\n",
    "width = 0.5\n",
    "\n",
    "plt.bar(ind, group, width)\n",
    "\n",
    "plt.ylabel(\"Count\")\n",
    "plt.xticks(ind + width/2., group_name)\n",
    "plt.xlim(-0.5, len(group_name))\n",
    "locs, labels = plt.xticks()\n",
    "plt.setp(labels, rotation=90)\n",
    "plt.show()"
   ]
  },
  {
   "cell_type": "markdown",
   "metadata": {},
   "source": [
    "### \"water_quality\" - the quality of the water"
   ]
  },
  {
   "cell_type": "code",
   "execution_count": 80,
   "metadata": {
    "collapsed": false
   },
   "outputs": [
    {
     "name": "stdout",
     "output_type": "stream",
     "text": [
      "count     59400\n",
      "unique        8\n",
      "top        soft\n",
      "freq      50818\n",
      "Name: water_quality, dtype: object\n",
      "Number of empty cells:  0\n"
     ]
    }
   ],
   "source": [
    "print(all_data[\"water_quality\"].describe())\n",
    "print(\"Number of empty cells: \", all_data[\"water_quality\"].isnull().sum())"
   ]
  },
  {
   "cell_type": "markdown",
   "metadata": {},
   "source": [
    "### \"quantity\" - the quantity of the water"
   ]
  },
  {
   "cell_type": "code",
   "execution_count": 81,
   "metadata": {
    "collapsed": false
   },
   "outputs": [
    {
     "name": "stdout",
     "output_type": "stream",
     "text": [
      "count      59400\n",
      "unique         5\n",
      "top       enough\n",
      "freq       33186\n",
      "Name: quantity, dtype: object\n",
      "Number of empty cells:  0\n"
     ]
    }
   ],
   "source": [
    "print(all_data[\"quantity\"].describe())\n",
    "print(\"Number of empty cells: \", all_data[\"quantity\"].isnull().sum())"
   ]
  },
  {
   "cell_type": "markdown",
   "metadata": {},
   "source": [
    "### \"source_type\" - the source of the water"
   ]
  },
  {
   "cell_type": "code",
   "execution_count": 82,
   "metadata": {
    "collapsed": false
   },
   "outputs": [
    {
     "name": "stdout",
     "output_type": "stream",
     "text": [
      "count      59400\n",
      "unique         7\n",
      "top       spring\n",
      "freq       17021\n",
      "Name: source_type, dtype: object\n",
      "Number of empty cells:  0\n"
     ]
    }
   ],
   "source": [
    "print(all_data[\"source_type\"].describe())\n",
    "print(\"Number of empty cells: \", all_data[\"source_type\"].isnull().sum())"
   ]
  },
  {
   "cell_type": "markdown",
   "metadata": {},
   "source": [
    "### \"source_class\" - the source of the water"
   ]
  },
  {
   "cell_type": "code",
   "execution_count": 83,
   "metadata": {
    "collapsed": false
   },
   "outputs": [
    {
     "name": "stdout",
     "output_type": "stream",
     "text": [
      "count           59400\n",
      "unique              3\n",
      "top       groundwater\n",
      "freq            45794\n",
      "Name: source_class, dtype: object\n",
      "Number of empty cells:  0\n"
     ]
    }
   ],
   "source": [
    "print(all_data[\"source_class\"].describe())\n",
    "print(\"Number of empty cells: \", all_data[\"source_class\"].isnull().sum())"
   ]
  },
  {
   "cell_type": "markdown",
   "metadata": {},
   "source": [
    "### \"waterpoint_type\" - the kind of waterpoint"
   ]
  },
  {
   "cell_type": "code",
   "execution_count": 84,
   "metadata": {
    "collapsed": false
   },
   "outputs": [
    {
     "name": "stdout",
     "output_type": "stream",
     "text": [
      "count                  59400\n",
      "unique                     7\n",
      "top       communal standpipe\n",
      "freq                   28522\n",
      "Name: waterpoint_type, dtype: object\n",
      "Number of empty cells:  0\n"
     ]
    }
   ],
   "source": [
    "print(all_data[\"waterpoint_type\"].describe())\n",
    "print(\"Number of empty cells: \", all_data[\"waterpoint_type\"].isnull().sum())"
   ]
  },
  {
   "cell_type": "code",
   "execution_count": null,
   "metadata": {
    "collapsed": true
   },
   "outputs": [],
   "source": []
  }
 ],
 "metadata": {
  "kernelspec": {
   "display_name": "Python [python35]",
   "language": "python",
   "name": "Python [python35]"
  },
  "language_info": {
   "codemirror_mode": {
    "name": "ipython",
    "version": 3
   },
   "file_extension": ".py",
   "mimetype": "text/x-python",
   "name": "python",
   "nbconvert_exporter": "python",
   "pygments_lexer": "ipython3",
   "version": "3.5.2"
  }
 },
 "nbformat": 4,
 "nbformat_minor": 0
}
